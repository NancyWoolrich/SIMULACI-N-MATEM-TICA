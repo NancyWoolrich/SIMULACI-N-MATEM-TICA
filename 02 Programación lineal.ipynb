{
 "cells": [
  {
   "cell_type": "markdown",
   "metadata": {},
   "source": [
    "12 de febrero 2024."
   ]
  },
  {
   "cell_type": "markdown",
   "metadata": {},
   "source": [
    "Nancy Woolrich Sorroza"
   ]
  },
  {
   "cell_type": "markdown",
   "metadata": {},
   "source": [
    "# A03\n",
    "\n",
    "# Programación lineal\n",
    "\n",
    "\n"
   ]
  },
  {
   "cell_type": "markdown",
   "metadata": {},
   "source": [
    "> La programación lineal es el campo de la optimización matemática dedicado a maximizar o minimizar (optimizar) funciones lineales, denominada función objetivo, de tal forma que las variables de dicha función estén sujetas a una serie de restricciones expresadas mediante un sistema de ecuaciones o inecuaciones también lineales.\n",
    "\n",
    "\n",
    "<img style=\"float: right; margin: 0px 0px 15px 15px;\" src=\"https://upload.wikimedia.org/wikipedia/commons/thumb/0/0c/Linear_Programming_Feasible_Region.svg/2000px-Linear_Programming_Feasible_Region.svg.png\" width=\"400px\" height=\"125px\" />\n",
    "\n",
    "<img style=\"float: center\" src=\"https://upload.wikimedia.org/wikipedia/commons/thumb/e/ef/3dpoly.svg/220px-3dpoly.svg.png\" width=\"350px\" height=\"125px\" />\n",
    "\n",
    "\n",
    "**Referencias:**\n",
    "- https://es.wikipedia.org/wiki/Programaci%C3%B3n_lineal\n",
    "- https://docs.scipy.org/doc/scipy-0.18.1/reference/optimize.html\n",
    "- http://bdigital.unal.edu.co/5037/4/guillermojimenezlozano.2006_Parte1.pdf "
   ]
  },
  {
   "cell_type": "markdown",
   "metadata": {},
   "source": [
    "- Varias variables\n",
    "- Restricciones (desigualdades)\n",
    "- Sistemas de ecuaciones"
   ]
  },
  {
   "cell_type": "markdown",
   "metadata": {},
   "source": [
    "## 1. Apuntes históricos\n",
    "\n",
    "<img style=\"float: right\" src=\"https://upload.wikimedia.org/wikipedia/commons/5/5e/JohnvonNeumann-LosAlamos.gif\" width=\"200px\" height=\"125px\" />\n",
    "\n",
    "\n",
    "- 1826:\tJoseph Fourier anticipa la programación lineal. Carl Friedrich Gauss resuelve ecuaciones lineales por eliminación \"gaussiana\".\n",
    "- 1902:\tGyula Farkas concibe un método para resolver sistemas de inecuaciones.\n",
    "- Es hasta la Segunda Guerra Mundial que se plantea la programación lineal como un modelo matemático para planificar gastos y retornos, de modo que se reduzcan costos de guerra y aumentar pérdidas del enemigo. Secreto hasta 1947 (posguerra).\n",
    "- 1947:\tGeorge Dantzig publica el algoritmo simplex y John von Neumann desarrolló la teoría de la dualidad. Se sabe que Leonid Kantoróvich también formuló la teoría en forma independiente.\n",
    "- Fue usado por muchas industrias en la planificación diaria.\n",
    "\n",
    "**Hasta acá, tiempos exponenciales de solución. Lo siguiente, tiempo polinomial.**\n",
    "\n",
    "- 1979: Leonid Khachiyan, diseñó el llamado Algoritmo del elipsoide, a través del cual demostró que el problema de la programación lineal es resoluble de manera eficiente, es decir, en tiempo polinomial.\n",
    "- 1984: Narendra Karmarkar introduce el método del punto interior para resolver problemas de programación lineal.\n",
    "\n",
    "<img style=\"float: center\" src=\"https://upload.wikimedia.org/wikipedia/commons/thumb/e/ef/Simplex-description-en.svg/240px-Simplex-description-en.svg.png\" width=\"200px\" height=\"125px\" />"
   ]
  },
  {
   "cell_type": "markdown",
   "metadata": {},
   "source": [
    " $$ y \\geq 3x + 4 $$"
   ]
  },
  {
   "cell_type": "markdown",
   "metadata": {},
   "source": [
    "## 2. Problemas de programación lineal\n",
    "\n",
    "### 2.1. Ejemplo básico\n",
    "Una multinacional farmacéutica desea fabricar un compuesto nutritivo a base de dos productos A y B.  El producto A contiene  $30\\%$ de proteínas,  un $1\\%$ de grasas y un  $10\\%$ de azúcares.  El producto B  contiene  un  $5\\%$  de proteínas,  un  $7\\%$ de grasas  y un  $10\\%$  de  azúcares.\n",
    "\n",
    "El compuesto debe de tener,  **al menos**, $25g$ de proteínas,  $6g$ de grasas y $30g$ de azúcares.  El coste del producto A es de $0.6$ u.m./g  y el de B es de $0.2$  u.m./g\n",
    "\n",
    "Se desea encontrar la cantidad en gramos de cada producto para que el coste total sea mínimo.\n",
    "\n",
    "Formular el problema de decidir cuánto hacer de cada producto como un problema de programación lineal."
   ]
  },
  {
   "cell_type": "markdown",
   "metadata": {},
   "source": [
    "#### Solución\n",
    "\n"
   ]
  },
  {
   "cell_type": "markdown",
   "metadata": {},
   "source": [
    "1. Criterio de optimización\n",
    "      - Minimizar costo del producto final.\n",
    "2. Variables sobre las que tengo control\n",
    "      - $ x_A $: cantidad de gramos de A.\n",
    "      - $ x_B $: cantidad de gramos de B.\n",
    "3. Función de costo\n",
    "      - f($x_A, x_B$)= $ 0.6x_A+0.2x_B $\n",
    "4. Restricciones\n",
    "      - El compuesto debe tener **al menos** 25g de proteína.\n",
    "      - El compuesto debe tener **al menos** 6g de grasa.\n",
    "      - El compuesto debe tener **al menos** 30g de azúcar.\n",
    "      \n",
    "$ 0.30x_A +0.05x_B \\geq 25 $\n",
    "\n",
    "$ 0.01x_A +0.07x_B \\geq 6 $\n",
    "\n",
    "$ 0.10x_A +0.10x_B \\geq 30 $\n"
   ]
  },
  {
   "cell_type": "markdown",
   "metadata": {},
   "source": [
    "Mayor igual que \\geq\n",
    "\n",
    "Menor igual que \\leq"
   ]
  },
  {
   "cell_type": "markdown",
   "metadata": {},
   "source": [
    "Solución gráfica:"
   ]
  },
  {
   "cell_type": "code",
   "execution_count": 1,
   "metadata": {},
   "outputs": [],
   "source": [
    "import sympy as sp\n",
    "import matplotlib.pyplot as plt\n",
    "%matplotlib inline\n",
    "\n",
    "def r1 (xA):\n",
    "    return (25-0.30*xA)/0.05\n",
    "\n",
    "def r2 (xA):\n",
    "    return (6-0.01*xA)/0.07\n",
    "\n",
    "def r3 (xA):\n",
    "    return (30-0.10*xA)/0.10\n"
   ]
  },
  {
   "cell_type": "code",
   "execution_count": 2,
   "metadata": {},
   "outputs": [
    {
     "data": {
      "text/plain": [
       "(-1.0, 500.0)"
      ]
     },
     "execution_count": 2,
     "metadata": {},
     "output_type": "execute_result"
    },
    {
     "data": {
      "image/png": "[encoded data removed]",
      "text/plain": [
       "<Figure size 640x480 with 1 Axes>"
      ]
     },
     "metadata": {},
     "output_type": "display_data"
    }
   ],
   "source": [
    "import numpy as np\n",
    "xA=np.linspace(0,300,2)\n",
    "\n",
    "plt.figure()\n",
    "plt.plot(xA, r1(xA), \"r\", label=\"Proteína\")\n",
    "plt.plot(xA, r2(xA), \"g\", label=\"Grasa\")\n",
    "plt.plot(xA, r3(xA), \"b\", label=\"Azúcar\")\n",
    "plt.legend(loc=\"best\")\n",
    "plt.grid\n",
    "plt.ylim([-1,500]) #Ajusta de dónde a dónde me deja la gráfica"
   ]
  },
  {
   "cell_type": "code",
   "execution_count": 3,
   "metadata": {},
   "outputs": [],
   "source": [
    "x=sp.var(\"x\")\n",
    "\n",
    "x1= sp.solve(r1(x)-r3(x),x)"
   ]
  },
  {
   "cell_type": "code",
   "execution_count": 4,
   "metadata": {},
   "outputs": [
    {
     "data": {
      "text/plain": [
       "([40.0000000000000], 260.0)"
      ]
     },
     "execution_count": 4,
     "metadata": {},
     "output_type": "execute_result"
    }
   ],
   "source": [
    "x1, r1(40)"
   ]
  },
  {
   "cell_type": "code",
   "execution_count": 5,
   "metadata": {},
   "outputs": [],
   "source": [
    "x2= sp.solve(r2(x)-r3(x),x)[0]"
   ]
  },
  {
   "cell_type": "code",
   "execution_count": 6,
   "metadata": {},
   "outputs": [
    {
     "data": {
      "text/plain": [
       "(250.000000000000, 49.99999999999999)"
      ]
     },
     "execution_count": 6,
     "metadata": {},
     "output_type": "execute_result"
    }
   ],
   "source": [
    "x2, r2(250)"
   ]
  },
  {
   "cell_type": "code",
   "execution_count": 7,
   "metadata": {},
   "outputs": [
    {
     "data": {
      "text/plain": [
       "76.0"
      ]
     },
     "execution_count": 7,
     "metadata": {},
     "output_type": "execute_result"
    }
   ],
   "source": [
    "def costo (xA,xB):\n",
    "    return 0.6*xA + 0.2*xB\n",
    "\n",
    "costo(40,260)"
   ]
  },
  {
   "cell_type": "code",
   "execution_count": 8,
   "metadata": {},
   "outputs": [
    {
     "data": {
      "text/plain": [
       "160.0"
      ]
     },
     "execution_count": 8,
     "metadata": {},
     "output_type": "execute_result"
    }
   ],
   "source": [
    "costo(250,50)"
   ]
  },
  {
   "cell_type": "markdown",
   "metadata": {},
   "source": [
    "El producto final debe tener 40 g del producto A y 260 g del producto B.\n",
    "\n",
    "El costo final es de $76."
   ]
  },
  {
   "cell_type": "markdown",
   "metadata": {},
   "source": [
    "### 2.2. Ejemplo básico 2\n",
    "Una  fábrica  de  carrocerías  de  automóviles  y camiones  tiene  dos naves. \n",
    "\n",
    "+ En  la nave A,  para  hacer  la  carrocería  de  un  camión,  se  invierten  siete  días-operario,  para  fabricar  la  de  un  coche  se  precisan dos días-operario.\n",
    "\n",
    "+ En la nave B se invierten tres días operario tanto en carrocerías de camión como de coche. \n",
    "\n",
    "Por limitaciones de mano de obra y maquinaria, la nave A dispone de $300$ días operario, y la nave B de $270$ días-operario.\n",
    "\n",
    "Si los beneficios que se obtienen por cada camión son de $600$ u.m y por  cada  automóvil  $200$ u.m,  ¿cuántas  unidades  de  cada  uno  se deben  producir  para maximizar las  ganancias? \n",
    "\n",
    "**Nota:** el problema $\\max_{\\boldsymbol{x}}\\boldsymbol{g}(\\boldsymbol{x})$ es equivalente a $\\min_{\\boldsymbol{x}}-\\boldsymbol{g}(\\boldsymbol{x})$."
   ]
  },
  {
   "cell_type": "markdown",
   "metadata": {},
   "source": [
    "Resolviendo el problema 2 (Maximización de utilidad en carros y camiones), con la función `linprog`"
   ]
  },
  {
   "cell_type": "markdown",
   "metadata": {},
   "source": [
    "1. Criterio de optimización:\n",
    "    \n",
    "    - Maximización de ganancias. (se pone negativo)"
   ]
  },
  {
   "cell_type": "markdown",
   "metadata": {},
   "source": [
    "2. Variables que puedo controlar:\n",
    "\n",
    "    - Autos en A.\n",
    "    - Camiones en A.\n",
    "    - Autos en B.\n",
    "    - Camiones en B."
   ]
  },
  {
   "cell_type": "markdown",
   "metadata": {},
   "source": [
    "3. Función de costo:\n",
    "\n",
    "$f(C_A,A_A,C_B,A_B)=600C_A + 200A_A + 600C_B + 200A_B$\n",
    "\n"
   ]
  },
  {
   "cell_type": "markdown",
   "metadata": {},
   "source": [
    "4. Restricciones:\n",
    "\n",
    "$7C_A + 2A_A \\leq 300$\n",
    "\n",
    "$3C_B + 3A_B \\leq 270$"
   ]
  },
  {
   "cell_type": "code",
   "execution_count": 12,
   "metadata": {},
   "outputs": [
    {
     "data": {
      "text/plain": [
       "        message: Optimization terminated successfully. (HiGHS Status 7: Optimal)\n",
       "        success: True\n",
       "         status: 0\n",
       "            fun: -84000.0\n",
       "              x: [ 0.000e+00  9.000e+01  1.500e+02  0.000e+00]\n",
       "            nit: 0\n",
       "          lower:  residual: [ 0.000e+00  9.000e+01  1.500e+02  0.000e+00]\n",
       "                 marginals: [ 1.000e+02  0.000e+00  0.000e+00  4.000e+02]\n",
       "          upper:  residual: [       inf        inf        inf        inf]\n",
       "                 marginals: [ 0.000e+00  0.000e+00  0.000e+00  0.000e+00]\n",
       "          eqlin:  residual: []\n",
       "                 marginals: []\n",
       "        ineqlin:  residual: [ 0.000e+00  0.000e+00]\n",
       "                 marginals: [-1.000e+02 -2.000e+02]\n",
       " mip_node_count: 0\n",
       " mip_dual_bound: 0.0\n",
       "        mip_gap: 0.0"
      ]
     },
     "execution_count": 12,
     "metadata": {},
     "output_type": "execute_result"
    }
   ],
   "source": [
    "import sympy as sp\n",
    "import numpy as np\n",
    "\n",
    "c=np.array([-600,\n",
    "            -600,\n",
    "            -200,\n",
    "            -200])\n",
    "\n",
    "Aub=np.array([ \n",
    "    [7, 0, 2, 0],\n",
    "    [0, 3, 0, 3]\n",
    "])\n",
    "\n",
    "bub=np.array([300,\n",
    "              270])\n",
    "\n",
    "import scipy.optimize as opt\n",
    "\n",
    "opt.linprog (c, Aub, bub)"
   ]
  },
  {
   "cell_type": "markdown",
   "metadata": {},
   "source": [
    "Se deben producir **90** camiones en la nave **B** y **150** automóviles en la nave **A**."
   ]
  },
  {
   "cell_type": "markdown",
   "metadata": {},
   "source": [
    "## 3. ¿Cómo se resuelve en python?\n",
    "\n",
    "### 3.1 Librería `SciPy`\n",
    "\n",
    "<img style=\"float: right; margin: 0px 0px 15px 15px;\" src=\"https://scipy.org/_static/images/scipy_med.png\" width=\"200px\" height=\"75px\" />\n",
    "\n",
    "`SciPy` es un software de código abierto basado en `Python` para matemáticas, ciencia e ingeniería. \n",
    "\n",
    "La **Librería `SciPy`** es uno de los paquetes principales y provee varias rutinas numéricas eficientes. Entre ellas, para integración numérica y optimización.\n",
    "\n",
    "En esta clase, y en lo que resta del módulo, estaremos utilizando el módulo `optimize` de la librería `SciPy`.\n",
    "\n",
    "**Importémoslo**"
   ]
  },
  {
   "cell_type": "code",
   "execution_count": 9,
   "metadata": {},
   "outputs": [],
   "source": [
    "import scipy.optimize as opt"
   ]
  },
  {
   "cell_type": "markdown",
   "metadata": {},
   "source": [
    "# Importar el módulo optimize de la librería scipy"
   ]
  },
  {
   "cell_type": "markdown",
   "metadata": {},
   "source": [
    "El módulo `optimize` que acabamos de importar contiene varias funciones para optimización y búsqueda de raices. Entre ellas se encuentra la función `linprog`\n",
    "\n",
    "---"
   ]
  },
  {
   "cell_type": "code",
   "execution_count": 1,
   "metadata": {},
   "outputs": [
    {
     "name": "stdout",
     "output_type": "stream",
     "text": [
      "Object `opt.linprog` not found.\n"
     ]
    }
   ],
   "source": [
    "opt.linprog?"
   ]
  },
  {
   "cell_type": "markdown",
   "metadata": {},
   "source": [
    "**Actividad.** Mónica hace aretes y cadenitas de joyería. Es tan buena, que todo lo que hace lo vende.\n",
    "\n",
    "Le toma 30 minutos hacer un par de aretes y una hora hacer una cadenita, y como Mónica también es estudihambre, solo dispone de 10 horas a la semana para hacer las joyas. Por otra parte, el material que compra solo le alcanza para hacer 15 unidades (el par de aretes cuenta como unidad) de joyas por semana.\n",
    "\n",
    "La utilidad que le deja la venta de las joyas es $\\$15$ en cada par de aretes y $\\$20$ en cada cadenita.\n",
    "\n",
    "¿Cuántos pares de aretes y cuántas cadenitas debería hacer Mónica para maximizar su utilidad?\n",
    "\n",
    "Formular el problema en la forma explicada y obtener la solución gráfica (puede ser a mano).\n",
    "\n",
    "**Diez minutos: quien primero lo haga, comparte pantalla para explicarlo y le subiré la nota de alguna tarea a 100.**"
   ]
  },
  {
   "cell_type": "markdown",
   "metadata": {},
   "source": [
    "### 1. Criterio de optimización\n",
    "    - Maximizar costo"
   ]
  },
  {
   "cell_type": "markdown",
   "metadata": {},
   "source": [
    "### 2. Variables que puedo controlar\n",
    "    - Aretes que puede hacer\n",
    "    - Cadenitas que puede hacer"
   ]
  },
  {
   "cell_type": "markdown",
   "metadata": {},
   "source": [
    "### 3. Función de costo\n",
    "    \n",
    "$ f(a,c)=15a+20c $\n"
   ]
  },
  {
   "cell_type": "markdown",
   "metadata": {},
   "source": [
    "### 4. Restriccciones:\n",
    "\n",
    "$30a+60c \\leq 600$\n",
    "\n",
    "$a+c \\leq 15$"
   ]
  },
  {
   "cell_type": "code",
   "execution_count": 2,
   "metadata": {},
   "outputs": [
    {
     "data": {
      "text/plain": [
       "        message: Optimization terminated successfully. (HiGHS Status 7: Optimal)\n",
       "        success: True\n",
       "         status: 0\n",
       "            fun: -250.0\n",
       "              x: [ 1.000e+01  5.000e+00]\n",
       "            nit: 2\n",
       "          lower:  residual: [ 1.000e+01  5.000e+00]\n",
       "                 marginals: [ 0.000e+00  0.000e+00]\n",
       "          upper:  residual: [       inf        inf]\n",
       "                 marginals: [ 0.000e+00  0.000e+00]\n",
       "          eqlin:  residual: []\n",
       "                 marginals: []\n",
       "        ineqlin:  residual: [ 0.000e+00  0.000e+00]\n",
       "                 marginals: [-1.667e-01 -1.000e+01]\n",
       " mip_node_count: 0\n",
       " mip_dual_bound: 0.0\n",
       "        mip_gap: 0.0"
      ]
     },
     "execution_count": 2,
     "metadata": {},
     "output_type": "execute_result"
    }
   ],
   "source": [
    "import numpy as np\n",
    "import scipy.optimize as opt\n",
    "\n",
    "c=np.array([-15,\n",
    "            -20])\n",
    "\n",
    "Aub=np.array([ \n",
    "    [30, 60],\n",
    "    [1, 1]\n",
    "])\n",
    "\n",
    "bub=np.array([600,\n",
    "              15])\n",
    "\n",
    "import scipy.optimize as opt\n",
    "\n",
    "opt.linprog (c, Aub, bub)\n",
    "\n"
   ]
  },
  {
   "cell_type": "code",
   "execution_count": 4,
   "metadata": {},
   "outputs": [
    {
     "data": {
      "text/plain": [
       "250"
      ]
     },
     "execution_count": 4,
     "metadata": {},
     "output_type": "execute_result"
    }
   ],
   "source": [
    "def ganancia(a,c):\n",
    "    return 15*a + 20*c\n",
    "\n",
    "ganancia(10,5)"
   ]
  },
  {
   "cell_type": "markdown",
   "metadata": {},
   "source": [
    "El número de **aretes** que puede hacer es **10 aretes** y **5 cadenas** por semana para optimizar ganancias y va a ganar **$250**.\n"
   ]
  },
  {
   "cell_type": "markdown",
   "metadata": {},
   "source": [
    "## 4. Problema de transporte 1\n",
    "- **Referencia**: http://bdigital.unal.edu.co/5037/4/guillermojimenezlozano.2006_Parte1.pdf\n",
    "\n",
    "Una  empresa tiene dos fábricas A y B.  En ellas  se fabrica un determinado  producto, a razón de 500  y 400 unidades por día respectivamente.  El producto  ha  de  ser distribuido posteriormente  a  tres  centros  C,  D  y  E,  que  requieren,  respectivamente,  200,  300  y  400  unidades.  Los  costos  de  transportar cada unidad del producto desde cada fábrica a cada centro distribuidor son los  indicados  en la tabla  siguiente: \n",
    "\n",
    "Factoría|C|D|E|Fabricación (Unidades)\n",
    ":----|----|----|----|----\n",
    "A|  50 u.m|60 u.m|10 u.m|500 u\n",
    "B|  25 u.m|40 u.m|20 u.m|400 u\n",
    "Demanda|200|300|400|\n",
    "\n",
    "**¿De qué manera  deben  organizar  el transporte a fin de que los gastos sean mínimos?**\n",
    "\n",
    "\n",
    "Formulemos el problema para ser resuelto por la programación lineal con\n",
    "- $x_1$: unidades transportadas de la factoría \"A\" al centro \"C\"\n",
    "- $x_2$: unidades transportadas de la factoría \"A\" al centro \"D\"\n",
    "- $x_3$: unidades transportadas de la factoría \"A\" al centro \"E\"\n",
    "- $x_4$: unidades transportadas de la factoría \"B\" al centro \"C\"\n",
    "- $x_5$: unidades transportadas de la factoría \"B\" al centro \"D\"\n",
    "- $x_6$: unidades transportadas de la factoría \"B\" al centro \"E\"\n",
    "\n",
    "se tienen las siguientes ecuaciones:\n",
    "\n",
    "Restricciones de la producción:\n",
    "\n",
    "- $x_{AC} + x_{AD} + x_{AE} \\leq 500$\n",
    "- $x_{BC} + x_{BD} + x_{BE} \\leq 400$\n",
    "\n",
    "Restricciones del consumo:\n",
    "\n",
    "- $x_{AC} + x_{BC} \\geq 200$\n",
    "- $x_{AD} + x_{BD} \\geq 300$\n",
    "- $x_{AE} + x_{BE} \\geq 400$\n",
    "\n",
    "La función objetivo será:\n",
    "\n",
    "$$\\min_{x_1,\\dots,x_6}50x_{AC} + 60x_{AD} + 10x_{AE} + 25x_{BC} + 40x_{BD} + 20x_{BE}$$\n",
    "\n",
    "Resolver con `linprog`"
   ]
  },
  {
   "cell_type": "markdown",
   "metadata": {},
   "source": [
    "### Criterio de optimización\n",
    "    - Minimización de gastos de transporte."
   ]
  },
  {
   "cell_type": "markdown",
   "metadata": {},
   "source": [
    "### Variables que puedo controlar\n",
    "   - $x_AC$: unidades transportadas de la factoría \"A\" al centro \"C\".\n",
    "   - $x_AD$: unidades transportadas de la factoría \"A\" al centro \"D\".\n",
    "   - $x_AE$: unidades transportadas de la factoría \"A\" al centro \"E\".\n",
    "   - $x_BC$: unidades transportadas de la factoría \"B\" al centro \"C\".\n",
    "   - $x_BD$: unidades transportadas de la factoría \"B\" al centro \"D\".\n",
    "   - $x_BE$: unidades transportadas de la factoría \"B\" al centro \"E\"."
   ]
  },
  {
   "cell_type": "markdown",
   "metadata": {},
   "source": [
    "### Función de costo\n",
    "\n",
    "$$\\min_{x_1,\\dots,x_6}50x_{AC} + 60x_{AD} + 10x_{AE} + 25x_{BC} + 40x_{BD} + 20x_{BE}$$"
   ]
  },
  {
   "cell_type": "markdown",
   "metadata": {},
   "source": [
    "### Restricciones\n",
    "Restricciones de la producción:\n",
    "\n",
    "  - $x_{AC} + x_{AD} + x_{AE} \\leq 500$\n",
    "    \n",
    "  - $x_{BC} + x_{BD} + x_{BE} \\leq 400$\n",
    "\n",
    "Restricciones del consumo:\n",
    "\n",
    "  - $x_{AC} + x_{BC} = 200$\n",
    "    \n",
    "  - $x_{AD} + x_{BD} = 300$\n",
    "    \n",
    "  - $x_{AE} + x_{BE} = 400$\n",
    "\n"
   ]
  },
  {
   "cell_type": "code",
   "execution_count": 7,
   "metadata": {},
   "outputs": [
    {
     "data": {
      "text/plain": [
       "        message: Optimization terminated successfully. (HiGHS Status 7: Optimal)\n",
       "        success: True\n",
       "         status: 0\n",
       "            fun: 22500.0\n",
       "              x: [ 1.000e+02  0.000e+00  3.000e+02  1.000e+02  3.000e+02\n",
       "                   0.000e+00]\n",
       "            nit: 2\n",
       "          lower:  residual: [ 1.000e+02  0.000e+00  3.000e+02  1.000e+02\n",
       "                              3.000e+02  0.000e+00]\n",
       "                 marginals: [ 0.000e+00  5.000e+00  0.000e+00  0.000e+00\n",
       "                              0.000e+00  2.500e+01]\n",
       "          upper:  residual: [       inf        inf        inf        inf\n",
       "                                    inf        inf]\n",
       "                 marginals: [ 0.000e+00  0.000e+00  0.000e+00  0.000e+00\n",
       "                              0.000e+00  0.000e+00]\n",
       "          eqlin:  residual: [ 0.000e+00  0.000e+00  0.000e+00]\n",
       "                 marginals: [ 4.000e+01  5.500e+01  1.000e+01]\n",
       "        ineqlin:  residual: [ 1.000e+02  0.000e+00]\n",
       "                 marginals: [-0.000e+00 -1.500e+01]\n",
       " mip_node_count: 0\n",
       " mip_dual_bound: 0.0\n",
       "        mip_gap: 0.0"
      ]
     },
     "execution_count": 7,
     "metadata": {},
     "output_type": "execute_result"
    }
   ],
   "source": [
    "import numpy as np\n",
    "import scipy.optimize as opt\n",
    "\n",
    "#FUNCION DE COSTO\n",
    "c=np.array([50,\n",
    "            60,\n",
    "            10,\n",
    "            25,\n",
    "            40,\n",
    "            20])\n",
    "#RESTRICCIONES\n",
    "Aub=np.array([ \n",
    "    [1, 1, 1, 0, 0, 0],\n",
    "    [0, 0, 0, 1, 1, 1]\n",
    "])\n",
    "\n",
    "#DESIGUALDADES\n",
    "bub=np.array([500,\n",
    "              400])\n",
    "              \n",
    "\n",
    "Aeq = np.array([\n",
    "    [1, 0, 0, 1, 0, 0],\n",
    "    [0, 1, 0, 0, 1, 0],\n",
    "    [1, 0, 1, 0, 0, 1]\n",
    "])\n",
    "beq=np.array ([200,\n",
    "              300,\n",
    "              400])\n",
    "\n",
    "import scipy.optimize as opt\n",
    "\n",
    "opt.linprog (c, Aub, bub, Aeq, beq)\n",
    "\n",
    "\n"
   ]
  },
  {
   "cell_type": "markdown",
   "metadata": {},
   "source": [
    " Se necesitan **100** unidades transportadas de la factoría **\"A\" al centro \"C\"**.\n",
    " \n",
    " **0** unidades transportadas de la factoría **\"A\" al centro \"D\"**.\n",
    " \n",
    " **300** unidades transportadas de la factoría **\"A\" al centro \"E\"**.\n",
    " \n",
    " **100** unidades transportadas de la factoría **\"B\" al centro \"C\"**.\n",
    " \n",
    " **300** unidades transportadas de la factoría **\"B\" al centro \"D\"**.\n",
    " \n",
    " **0** unidades transportadas de la factoría **\"B\" al centro \"E\"**.\n",
    " "
   ]
  },
  {
   "cell_type": "markdown",
   "metadata": {},
   "source": [
    "## 5. Optimización de inversión en bonos\n",
    "\n",
    "**Referencia:**"
   ]
  },
  {
   "cell_type": "code",
   "execution_count": 4,
   "metadata": {},
   "outputs": [
    {
     "data": {
      "text/html": [
       "\n",
       "        <iframe\n",
       "            width=\"400\"\n",
       "            height=\"300\"\n",
       "            src=\"https://www.youtube.com/embed/gukxBus8lOs\"\n",
       "            frameborder=\"0\"\n",
       "            allowfullscreen\n",
       "            \n",
       "        ></iframe>\n",
       "        "
      ],
      "text/plain": [
       "<IPython.lib.display.YouTubeVideo at 0x1270fea90>"
      ]
     },
     "execution_count": 4,
     "metadata": {},
     "output_type": "execute_result"
    }
   ],
   "source": [
    "from IPython.display import YouTubeVideo\n",
    "YouTubeVideo('gukxBus8lOs')\n"
   ]
  },
  {
   "cell_type": "markdown",
   "metadata": {},
   "source": [
    "El objetivo de este problema es determinar la mejor estrategia de inversión, dados diferentes tipos de bono, la máxima cantidad que puede ser invertida en cada bono, el porcentaje de retorno y los años de madurez. También hay una cantidad fija de dinero disponible ($\\$750,000$). Por lo menos la mitad de este dinero debe ser invertido en bonos con 10 años o más para la madurez. Se puede invertir un máximo del $25\\%$ de esta cantidad en cada bono. Finalmente, hay otra restricción que no permite usar más de $35\\%$ en bonos de alto riesgo.\n",
    "\n",
    "Existen seis (6) opciones de inversión con las letras correspondientes $A_i$\n",
    "\n",
    "1. $A_1$:(Tasa de retorno=$8.65\\%$; Años para la madurez=11, Riesgo=Bajo)\n",
    "1. $A_2$:(Tasa de retorno=$9.50\\%$; Años para la madurez=10, Riesgo=Alto)\n",
    "1. $A_3$:(Tasa de retorno=$10.00\\%$; Años para la madurez=6, Riesgo=Alto)\n",
    "1. $A_4$:(Tasa de retorno=$8.75\\%$; Años para la madurez=10, Riesgo=Bajo)\n",
    "1. $A_5$:(Tasa de retorno=$9.25\\%$; Años para la madurez=7, Riesgo=Alto)\n",
    "1. $A_6$:(Tasa de retorno=$9.00\\%$; Años para la madurez=13, Riesgo=Bajo)\n",
    "\n",
    "Lo que se quiere entonces es maximizar el retorno que deja la inversión.\n",
    "\n",
    "Este problema puede ser resuelto con programación lineal. Formalmente, puede ser descrito como:\n",
    "\n",
    "$$\\max_{A_1,A_2,...,A_6}\\sum^{6}_{i=1} A_iR_i,$$\n",
    "\n",
    "donde $A_i$ representa la cantidad invertida en la opción, y $R_i$ representa la tasa de retorno respectiva."
   ]
  },
  {
   "cell_type": "markdown",
   "metadata": {},
   "source": [
    "### Criterio de optimización\n",
    "    - Maximizar el retorno de la inversión."
   ]
  },
  {
   "cell_type": "markdown",
   "metadata": {},
   "source": [
    "### Variables que puedo controlar\n",
    "- $A_1$: (Tasa de retorno=$8.65\\%$; Años para la madurez=11, Riesgo=Bajo).\n",
    "- $A_2$: (Tasa de retorno=$9.50\\%$; Años para la madurez=10, Riesgo=Alto).\n",
    "- $A_3$: (Tasa de retorno=$10.00\\%$; Años para la madurez=6, Riesgo=Alto).\n",
    "- $A_4$: (Tasa de retorno=$8.75\\%$; Años para la madurez=10, Riesgo=Bajo).\n",
    "- $A_5$: (Tasa de retorno=$9.25\\%$; Años para la madurez=7, Riesgo=Alto).\n",
    "- $A_6$: (Tasa de retorno=$9.00\\%$; Años para la madurez=13, Riesgo=Bajo)."
   ]
  },
  {
   "cell_type": "markdown",
   "metadata": {},
   "source": [
    "### Función de costo\n",
    "- $$\\max_{A_1,A_2,...,A_6}\\sum^{6}_{i=1} A_iR_i,$$\n",
    "\n",
    "\n",
    "- $$A_1R_1 + A_2R_2 + A_3R_3 + A_4R_4 + A_5R_5 + A_6R_6=750000$$"
   ]
  },
  {
   "cell_type": "markdown",
   "metadata": {},
   "source": [
    "### Restricciones\n",
    "  \n",
    "  $A_1 + A_2 +A_3 +A_4 + A_5+ A_6 \\leq 750000$\n",
    "  \n",
    "  $A_1 + A_2 + 0A_3+ A_4 + 0 A_5 + A_6 \\geq 375000$\n",
    "  \n",
    "  $A_1 + 0A_2 + 0A_3 + 0A_4 +  0A_5 + 0A_6 \\leq 187500$\n",
    "  \n",
    "  $0A_1 + A_2 + 0A_3 + 0A_4 +  0A_5 + 0A_6 \\leq 187500$\n",
    "  \n",
    "  $0A_1 + 0A_2 + A_3 + 0A_4 +  0A_5 + 0A_6 \\leq 187500$\n",
    "  \n",
    "  $0A_1 + 0A_2 + 0A_3 + A_4 +  0A_5 + 0A_6 \\leq 187500$\n",
    "  \n",
    "  $0A_1 + 0A_2 + 0A_3 + 0A_4 +  A_5 + 0A_6 \\leq 187500$\n",
    "  \n",
    "  $0A_1 + 0A_2 + 0A_3 + 0A_4 +  0A_5 + A_6 \\leq 187500$\n",
    "  \n",
    "  $0A_1 + A_2 + A_3 + 0A_4 +  A_5 + 0A_6 \\leq 262500$"
   ]
  },
  {
   "cell_type": "code",
   "execution_count": 3,
   "metadata": {},
   "outputs": [
    {
     "data": {
      "text/plain": [
       "        message: Optimization terminated successfully. (HiGHS Status 7: Optimal)\n",
       "        success: True\n",
       "         status: 0\n",
       "            fun: -68887.5\n",
       "              x: [ 1.125e+05  7.500e+04  1.875e+05  1.875e+05  0.000e+00\n",
       "                   1.875e+05]\n",
       "            nit: 3\n",
       "          lower:  residual: [ 1.125e+05  7.500e+04  1.875e+05  1.875e+05\n",
       "                              0.000e+00  1.875e+05]\n",
       "                 marginals: [ 0.000e+00  0.000e+00  0.000e+00  0.000e+00\n",
       "                              2.500e-03  0.000e+00]\n",
       "          upper:  residual: [       inf        inf        inf        inf\n",
       "                                    inf        inf]\n",
       "                 marginals: [ 0.000e+00  0.000e+00  0.000e+00  0.000e+00\n",
       "                              0.000e+00  0.000e+00]\n",
       "          eqlin:  residual: []\n",
       "                 marginals: []\n",
       "        ineqlin:  residual: [ 0.000e+00  1.875e+05  7.500e+04  1.125e+05\n",
       "                              0.000e+00  0.000e+00  1.875e+05  0.000e+00\n",
       "                              0.000e+00]\n",
       "                 marginals: [-8.650e-02 -0.000e+00 -0.000e+00 -0.000e+00\n",
       "                             -5.000e-03 -1.000e-03 -0.000e+00 -3.500e-03\n",
       "                             -8.500e-03]\n",
       " mip_node_count: 0\n",
       " mip_dual_bound: 0.0\n",
       "        mip_gap: 0.0"
      ]
     },
     "execution_count": 3,
     "metadata": {},
     "output_type": "execute_result"
    }
   ],
   "source": [
    "import numpy as np\n",
    "import scipy.optimize as opt\n",
    "\n",
    "#FUNCIÓN DE COSTO- negativos porque es máximo\n",
    "c=np.array([-0.0865,\n",
    "            -0.0950,\n",
    "            -0.1000,\n",
    "            -0.0875,\n",
    "            -0.0925,\n",
    "            -0.0900])\n",
    "#RESTRICCIONES\n",
    "Aub=np.array([ \n",
    "    [1, 1, 1, 1, 1, 1],\n",
    "    [-1, -1, 0, -1, 0, -1], # negativo porque es mayor igual\n",
    "    [1, 0, 0, 0, 0, 0],\n",
    "    [0, 1, 0, 0, 0, 0],\n",
    "    [0, 0, 1, 0, 0, 0],\n",
    "    [0, 0, 0, 1, 0, 0],\n",
    "    [0, 0, 0, 0, 1, 0],\n",
    "    [0, 0, 0, 0, 0, 1],\n",
    "    [0, 1, 1, 0, 1, 0]\n",
    "])\n",
    "\n",
    "#DESIGUALDADES\n",
    "bub=np.array([750000,\n",
    "              -375000, # negativo porque es mayor igual\n",
    "              187500,\n",
    "              187500,\n",
    "              187500,\n",
    "              187500,\n",
    "              187500,\n",
    "              187500,\n",
    "              262500])\n",
    "\n",
    "import scipy.optimize as opt\n",
    "\n",
    "opt.linprog (c, Aub, bub)\n",
    "\n",
    "\n",
    "\n"
   ]
  },
  {
   "cell_type": "markdown",
   "metadata": {},
   "source": [
    "Se debe invertir $\\$112,500$ de la opción $A_1$.\n",
    "\n",
    "$\\$75,000$ de la opción $A_2$.\n",
    "\n",
    "$\\$187,500$ de la opción $A_3$.\n",
    "\n",
    "$\\$187,500$ de la opción $A_4$.\n",
    "\n",
    "$\\$0$ de la opción $A_5$.\n",
    "\n",
    "$\\$187,500$ de la opción $A_6$.\n"
   ]
  },
  {
   "cell_type": "code",
   "execution_count": null,
   "metadata": {},
   "outputs": [],
   "source": []
  }
 ],
 "metadata": {
  "kernelspec": {
   "display_name": "Python 3 (ipykernel)",
   "language": "python",
   "name": "python3"
  },
  "language_info": {
   "codemirror_mode": {
    "name": "ipython",
    "version": 3
   },
   "file_extension": ".py",
   "mimetype": "text/x-python",
   "name": "python",
   "nbconvert_exporter": "python",
   "pygments_lexer": "ipython3",
   "version": "3.11.5"
  }
 },
 "nbformat": 4,
 "nbformat_minor": 2
}
