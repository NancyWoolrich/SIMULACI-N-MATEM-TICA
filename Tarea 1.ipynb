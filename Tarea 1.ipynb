{
 "cells": [
  {
   "cell_type": "markdown",
   "metadata": {},
   "source": [
    "15 de enero 2024"
   ]
  },
  {
   "cell_type": "markdown",
   "metadata": {},
   "source": [
    "Nancy Woolrich Sorroza"
   ]
  },
  {
   "cell_type": "markdown",
   "metadata": {},
   "source": [
    "Tarea 1"
   ]
  },
  {
   "cell_type": "markdown",
   "metadata": {},
   "source": [
    "# Un poco sobre mí"
   ]
  },
  {
   "cell_type": "markdown",
   "metadata": {},
   "source": [
    "Mi nombre es **Nancy Woolrich Sorroza**, tengo 21 años; mi familia está conformada por mis papás, dos hermanos, una hermana, y mi perrita que se llama Kina. Las cosas que me gustan son:\n",
    "1. Los colores  blanco, negro y verde\n",
    "2. Leer\n",
    "3. Cocinar\n",
    "4. Escuchar música\n",
    "5. Disfrutar de buena compañía.\n",
    "\n",
    "Mi sueño es viajar por el mundo, conocer diferentes culturas y poder probar la comida típica de cada lugar al que vaya. Un viaje que me gustaría hacer con mi mamá y mi hermana es irnos a un viaje de carretera por Europa en una casa rodante para poder visitar y conocer las maravillas naturales que puede ofrecer el continente.\n",
    "\n",
    "\n",
    "\n",
    "\n",
    "\n",
    "\n"
   ]
  },
  {
   "cell_type": "markdown",
   "metadata": {},
   "source": [
    "![](https://th.bing.com/th/id/OIP.piKyzCcJ2EFuYUGWo-7VggHaEK?w=322&h=181&c=7&r=0&o=5&pid=1.7)"
   ]
  },
  {
   "cell_type": "markdown",
   "metadata": {},
   "source": [
    "## Sobre mi carrera"
   ]
  },
  {
   "cell_type": "markdown",
   "metadata": {},
   "source": [
    "Soy estudiante del *ITESO* en ingeniería en nanotecnología, voy en 6° semestre y me gustaría estudiar la maestría en nanomedicina después de acabar la carrera.\n",
    "\n",
    "Hasta ahora he cursado materias que me han gustado mucho, las cuales son:\n",
    "- Ecuaciones diferenciales\n",
    "- Fenómenos ópticos y ondulatorios\n",
    "- Metalurgia\n",
    "- Síntesis y caracterizacíon de nanomateriales I"
   ]
  },
  {
   "cell_type": "markdown",
   "metadata": {},
   "source": [
    "Una ecuación importante que se usa en mecánica cuántica para explicar los fenómenos de lo pequeño es la ecuación de Schrödinger:"
   ]
  },
  {
   "cell_type": "markdown",
   "metadata": {},
   "source": [
    "$$- \\frac{\\hbar^2}{2m} \\nabla^2 \\psi + V( \\vec x ) \\psi = E \\psi$$"
   ]
  }
 ],
 "metadata": {
  "kernelspec": {
   "display_name": "Python 3 (ipykernel)",
   "language": "python",
   "name": "python3"
  },
  "language_info": {
   "codemirror_mode": {
    "name": "ipython",
    "version": 3
   },
   "file_extension": ".py",
   "mimetype": "text/x-python",
   "name": "python",
   "nbconvert_exporter": "python",
   "pygments_lexer": "ipython3",
   "version": "3.11.5"
  }
 },
 "nbformat": 4,
 "nbformat_minor": 4
}
