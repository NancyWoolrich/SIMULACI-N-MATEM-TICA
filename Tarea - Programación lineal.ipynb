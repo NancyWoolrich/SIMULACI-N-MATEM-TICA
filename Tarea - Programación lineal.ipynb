{
 "cells": [
  {
   "cell_type": "markdown",
   "metadata": {},
   "source": [
    "19 de febrero 2024."
   ]
  },
  {
   "cell_type": "markdown",
   "metadata": {},
   "source": [
    "Nancy Woolrich Sorroza"
   ]
  },
  {
   "cell_type": "markdown",
   "metadata": {},
   "source": [
    "# Tarea - Programación lineal"
   ]
  },
  {
   "cell_type": "markdown",
   "metadata": {},
   "source": [
    "### Diseño de la Dieta Óptima\n",
    "\n",
    "Se quiere producir comida para gatos de la manera más barata, no obstante se debe también asegurar que se cumplan los datos requeridos de analisis nutricional. Por lo que se quiere variar la cantidad de cada ingrediente para cumplir con los estandares nutricionales. Los requisitos que se tienen es que en $100$ gramos, se deben tener **por lo menos** $8$ gramos de proteína y $6$ gramos de grasa. Así mismo, no se debe tener más de $2$ gramos de fibra y $0.4$ gramos de sal.  \n",
    "\n",
    "Los datos nutricionales se pueden obtener de la siguiente tabla:\n",
    "\n",
    "Ingrediente|Proteína|Grasa|Fibra|Sal\n",
    ":----|----|----|----|----\n",
    "Pollo|  10.0%|08.0%|00.1%|00.2%\n",
    "Carne|  20.0%|10.0%|00.5%|00.5%\n",
    "Cordero|15.0%|11.0%|00.5%|00.7%\n",
    "Arroz|  00.0%|01.0%|10.0%|00.2%\n",
    "Trigo|  04.0%|01.0%|15.0%|00.8%\n",
    "Gel|    00.0%|00.0%|00.0%|00.0%\n",
    "\n",
    "Los costos de cada producto son:\n",
    "\n",
    "Ingrediente|Costo por gramo\n",
    ":----|----\n",
    "Pollo|$\\$$0.013\n",
    "Carne|$\\$$0.008\n",
    "Cordero|$\\$$0.010\n",
    "Arroz|$\\$$0.002\n",
    "Trigo|$\\$$0.005\n",
    "Gel|$\\$$0.001    \n",
    "\n",
    "Lo que se busca optimizar en este caso es la cantidad de productos que se debe utilizar en la comida de gato, minimizando el costo total. Para simplificar la notación use las siguientes variables: \n",
    "\n",
    "+ $x_1:$ Gramos de pollo  \n",
    "+ $x_2:$ Gramos de carne  \n",
    "+ $x_3:$ Gramos de cordero  \n",
    "+ $x_4:$ Gramos de arroz  \n",
    "+ $x_5:$ Gramos de trigo  \n",
    "+ $x_6:$ Gramos de gel\n",
    "\n",
    "La tarea consiste en plantear el problemade programación lineal que permita satisfacer las necesidades alimenticias del gato al tiempo que minimice el costo total y resolverlo con `linprog`."
   ]
  },
  {
   "cell_type": "markdown",
   "metadata": {},
   "source": [
    "### Criterio de optimización\n",
    "\n",
    "- Minimizar el costo de producción de comida para gatos."
   ]
  },
  {
   "cell_type": "markdown",
   "metadata": {},
   "source": [
    "### Variables que puedo controlar\n",
    "- Cantidad de cada ingrediente:\n",
    "\n",
    "1. $x_1:$ Gramos de pollo  \n",
    "2. $x_2:$ Gramos de carne  \n",
    "3. $x_3:$ Gramos de cordero  \n",
    "4. $x_4:$ Gramos de arroz  \n",
    "5. $x_5:$ Gramos de trigo  \n",
    "6. $x_6:$ Gramos de gel"
   ]
  },
  {
   "cell_type": "markdown",
   "metadata": {},
   "source": [
    "### Función de costo\n",
    "\n",
    "$$\\min_{x_1,\\dots,x_6} 0.013x_1 + 0.008x_2 + 0.010x_3 + 0.002x_4 + 0.005x_5 + 0.001x_6$$"
   ]
  },
  {
   "cell_type": "markdown",
   "metadata": {},
   "source": [
    "### Restricciones\n",
    "\n",
    "- $0.10x_1 + 0.20x_2 + 0.15x_3 + 0.02x_4 + 0.04x_5 + 0.00x_6\\geq 8$\n",
    "\n",
    "- $0.08x_1 + 0.10x_2 + 0.11x_3 + 0.01x_4 + 0.01x_5 + 0.00x_6\\geq 6$\n",
    "\n",
    "- $0.001x_1 + 0.005x_2 + 0.005x_3 + 0.10x_4 + 0.15x_5 + 0.00x_6\\leq 2$\n",
    "\n",
    "- $0.002x_1 + 0.005x_2 + 0.007x_3 + 0.002x_4 + 0.008x_5 + 0.00x_6\\leq 4$"
   ]
  },
  {
   "cell_type": "code",
   "execution_count": 6,
   "metadata": {},
   "outputs": [
    {
     "data": {
      "text/plain": [
       "       message: The problem is unbounded. (HiGHS Status 10: model_status is Unbounded; primal_status is At upper bound)\n",
       "       success: False\n",
       "        status: 3\n",
       "           fun: None\n",
       "             x: None\n",
       "           nit: 2\n",
       "         lower:  residual: None\n",
       "                marginals: None\n",
       "         upper:  residual: None\n",
       "                marginals: None\n",
       "         eqlin:  residual: None\n",
       "                marginals: None\n",
       "       ineqlin:  residual: None\n",
       "                marginals: None"
      ]
     },
     "execution_count": 6,
     "metadata": {},
     "output_type": "execute_result"
    }
   ],
   "source": [
    "import numpy as np\n",
    "import scipy.optimize as opt\n",
    "\n",
    "c=np.array([-0.013,\n",
    "            -0.008,\n",
    "            -0.010,\n",
    "            -0.002,\n",
    "            -0.005,\n",
    "            -0.001])\n",
    "\n",
    "Aub=np.array([ \n",
    "    [-0.10, -0.20, -0.15, -0.02, -0.04, -0.00],\n",
    "    [-0.08, -0.10, -0.11, -0.01, -0.01, -0.00],\n",
    "    [0.001, 0.005, 0.005, 0.10, 0.15, 0.00],\n",
    "    [0.002, 0.005, 0.007, 0.002, 0.008, 0.00]\n",
    "])\n",
    "\n",
    "bub=np.array([-8,\n",
    "              -6,\n",
    "              2, \n",
    "              4])\n",
    "\n",
    "opt.linprog (c, Aub, bub)"
   ]
  },
  {
   "cell_type": "markdown",
   "metadata": {},
   "source": []
  },
  {
   "cell_type": "markdown",
   "metadata": {},
   "source": [
    "### Problema de distribución de energía eléctrica\n",
    "\n",
    "La Comisión Federal de Electricidad **(CFE)** dispone de cuatro plantas de generación para satisfacer la demanda diaria eléctrica en cuatro ciudades, Guadalajara, León y Morelia. Las plantas $1$, $2$ y $3$ pueden satisfacer $80$, $40$ y $60$ millones de KW al día respectivamente. Las necesidades de las ciudades de Guadalajara, León y Morelia son de $70$, $40$ y $70$ millones de Kw al día respectivamente. \n",
    "\n",
    "\n",
    "Los costos asociados al envío de suministro energético por cada millón de Kw entre cada planta y cada ciudad son los registrados en la siguiente tabla. \n",
    "\n",
    "-|Guadalajara|León|Morelia\n",
    ":----|----|----|----\n",
    "Planta 1|5|2|7\n",
    "Planta 2|3|6|6\n",
    "Planta 3|6|1|2\n",
    "\n",
    "Y por último, las restricciones del problema, van a estar dadas por las capacidades de oferta y demanda de cada planta (en millones de KW) y cada ciudad.\n",
    "\n",
    "Para simplificar la notación use las siguientes variables:\n",
    "\n",
    "+ $x_1$: Kw (en millones) distribuidos de la Planta 1 a Guadalajara\n",
    "+ $x_2$: Kw (en millones) distribuidos de la Planta 1 a León\n",
    "+ $x_3$: Kw (en millones) distribuidos de la Planta 1 a Morelia\n",
    "+ $x_4$: Kw (en millones) distribuidos de la Planta 2 a Guadalajara\n",
    "+ $x_5$: Kw (en millones) distribuidos de la Planta 2 a León\n",
    "+ $x_6$: Kw (en millones) distribuidos de la Planta 2 a Morelia\n",
    "+ $x_7$: Kw (en millones) distribuidos de la Planta 3 a Guadalajara\n",
    "+ $x_8$: Kw (en millones) distribuidos de la Planta 3 a León\n",
    "+ $x_9$: Kw (en millones) distribuidos de la Planta 3 a Morelia\n",
    "\n",
    "La tarea consiste en plantear el problema de programación lineal que permita satisfacer las necesidades de todas las ciudades al tiempo que minimice los costos asociados a la distribución y resolverlo con `linprog`."
   ]
  },
  {
   "cell_type": "markdown",
   "metadata": {},
   "source": [
    "### Criterio de optimización\n",
    "\n",
    "- Minimizar el costo de distribución de energía."
   ]
  },
  {
   "cell_type": "markdown",
   "metadata": {},
   "source": [
    "### Variables que puedo controlar\n",
    "Cantidad de kw que se mandan por planta a cada ciudad:\n",
    "\n",
    "+ $x_1$: Kw (en millones) distribuidos de la Planta 1 a Guadalajara\n",
    "+ $x_2$: Kw (en millones) distribuidos de la Planta 1 a León\n",
    "+ $x_3$: Kw (en millones) distribuidos de la Planta 1 a Morelia\n",
    "+ $x_4$: Kw (en millones) distribuidos de la Planta 2 a Guadalajara\n",
    "+ $x_5$: Kw (en millones) distribuidos de la Planta 2 a León\n",
    "+ $x_6$: Kw (en millones) distribuidos de la Planta 2 a Morelia\n",
    "+ $x_7$: Kw (en millones) distribuidos de la Planta 3 a Guadalajara\n",
    "+ $x_8$: Kw (en millones) distribuidos de la Planta 3 a León\n",
    "+ $x_9$: Kw (en millones) distribuidos de la Planta 3 a Morelia"
   ]
  },
  {
   "cell_type": "markdown",
   "metadata": {},
   "source": [
    "### Función de costo\n",
    "\n",
    "$$\\min_{x_1,\\dots,x_9} 5x_1 + 2x_2 + 7x_3 + 3x_4 + 6x_5 + 6x_6 + 6x_7 + x_8 + 2x_9$$"
   ]
  },
  {
   "cell_type": "markdown",
   "metadata": {},
   "source": [
    "### Restricciones\n",
    "\n",
    "- $70x_1 + 40x_2 + 70x_3 + 0x_4 + 0x_5 + 0x_6 + 0x_7 + 0x_8 + 0x_9\\leq 80$\n",
    "\n",
    "- $0x_1 +0x_2 + 0x_3 + 70x_4 + 40x_5 + 70x_6 + 0x_7 + 0x_8 + 0x_9\\leq 40$\n",
    "\n",
    "- $0x_1 + 0x_2 + 0x_3 + 0x_4 + 0x_5 + 0x_6 + 70x_7 + 40x_8 + 70x_9\\leq 60$\n"
   ]
  },
  {
   "cell_type": "code",
   "execution_count": 3,
   "metadata": {},
   "outputs": [
    {
     "data": {
      "text/plain": [
       "        message: Optimization terminated successfully. (HiGHS Status 7: Optimal)\n",
       "        success: True\n",
       "         status: 0\n",
       "            fun: -19.142857142857142\n",
       "              x: [ 0.000e+00  0.000e+00  1.143e+00  0.000e+00  1.000e+00\n",
       "                   0.000e+00  8.571e-01  0.000e+00  0.000e+00]\n",
       "            nit: 0\n",
       "          lower:  residual: [ 0.000e+00  0.000e+00  1.143e+00  0.000e+00\n",
       "                              1.000e+00  0.000e+00  8.571e-01  0.000e+00\n",
       "                              0.000e+00]\n",
       "                 marginals: [ 2.000e+00  2.000e+00  0.000e+00  7.500e+00\n",
       "                              0.000e+00  4.500e+00  0.000e+00  2.429e+00\n",
       "                              4.000e+00]\n",
       "          upper:  residual: [       inf        inf        inf        inf\n",
       "                                    inf        inf        inf        inf\n",
       "                                    inf]\n",
       "                 marginals: [ 0.000e+00  0.000e+00  0.000e+00  0.000e+00\n",
       "                              0.000e+00  0.000e+00  0.000e+00  0.000e+00\n",
       "                              0.000e+00]\n",
       "          eqlin:  residual: []\n",
       "                 marginals: []\n",
       "        ineqlin:  residual: [ 0.000e+00  0.000e+00  0.000e+00]\n",
       "                 marginals: [-1.000e-01 -1.500e-01 -8.571e-02]\n",
       " mip_node_count: 0\n",
       " mip_dual_bound: 0.0\n",
       "        mip_gap: 0.0"
      ]
     },
     "execution_count": 3,
     "metadata": {},
     "output_type": "execute_result"
    }
   ],
   "source": [
    "import numpy as np\n",
    "import scipy.optimize as opt\n",
    "\n",
    "c=np.array([-5,\n",
    "            -2,\n",
    "            -7,\n",
    "            -3,\n",
    "            -6,\n",
    "            -6,\n",
    "            -6,\n",
    "            -1,\n",
    "            -2])\n",
    "\n",
    "Aub=np.array([ \n",
    "    [70, 40, 70, 0, 0, 0, 0, 0, 0],\n",
    "    [0, 0, 0, 70, 40, 70, 0, 0, 0],\n",
    "    [0, 0, 0, 0, 0, 0, 70, 40, 70]\n",
    "])\n",
    "\n",
    "bub=np.array([80,\n",
    "              40, \n",
    "              60])\n",
    "\n",
    "opt.linprog (c, Aub, bub)"
   ]
  },
  {
   "cell_type": "markdown",
   "metadata": {},
   "source": [
    "La **Planta 1** debe enviar **1.143 millones de kw** a **Morelia** para que el costo sea mínimo.\n",
    "\n",
    "La **Planta 2** debe enviar **1 millón de kw** a **León** para que el costo sea mínimo.\n",
    "\n",
    "La **Planta 3** debe enviar **0.8571 millones de kw** a **Guadalajara** para que el costo sea mínimo."
   ]
  },
  {
   "cell_type": "code",
   "execution_count": null,
   "metadata": {},
   "outputs": [],
   "source": []
  },
  {
   "cell_type": "code",
   "execution_count": null,
   "metadata": {},
   "outputs": [],
   "source": []
  }
 ],
 "metadata": {
  "kernelspec": {
   "display_name": "Python 3 (ipykernel)",
   "language": "python",
   "name": "python3"
  },
  "language_info": {
   "codemirror_mode": {
    "name": "ipython",
    "version": 3
   },
   "file_extension": ".py",
   "mimetype": "text/x-python",
   "name": "python",
   "nbconvert_exporter": "python",
   "pygments_lexer": "ipython3",
   "version": "3.11.5"
  }
 },
 "nbformat": 4,
 "nbformat_minor": 2
}
