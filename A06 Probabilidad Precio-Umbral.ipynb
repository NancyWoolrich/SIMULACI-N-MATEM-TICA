{
 "cells": [
  {
   "cell_type": "markdown",
   "metadata": {},
   "source": [
    "11 de abril 2024."
   ]
  },
  {
   "cell_type": "markdown",
   "metadata": {},
   "source": [
    "Nancy Woolrich Sorroza"
   ]
  },
  {
   "cell_type": "markdown",
   "metadata": {},
   "source": [
    "# Aplicando Python para análisis de precios: simulación de escenarios futuros de precios\n",
    "\n",
    "<img style=\"float: right; margin: 0px 0px 15px 15px;\" src=\"https://upload.wikimedia.org/wikipedia/commons/d/d7/Philippine-stock-market-board.jpg\" width=\"400px\" height=\"125px\" />\n",
    "\n",
    "> En la clase anterior vimos como importar datos de activos de la base de datos de Yahoo Finance usando el paquete pandas-datareader. En esta clase, veremos como pronosticar escenarios de evolución de precios, suponiendo que los rendimientos diarios se distribuyen normalmente. Como esta evolución de precios es aleatoria, utilizaremos la simulación montecarlo (hacer muchas simulaciones de escenarios de evolución de precios) para obtener probabilidades de que los precios de cierre estén encima de un valor umbral y tomar decisiones con base en estas probabilidades.\n",
    "\n",
    "**Referencias:**\n",
    "- http://pandas.pydata.org/\n",
    "- http://www.learndatasci.com/python-finance-part-yahoo-finance-api-pandas-matplotlib/"
   ]
  },
  {
   "cell_type": "markdown",
   "metadata": {},
   "source": [
    "## 1. Recordemos como descargar datos..."
   ]
  },
  {
   "cell_type": "markdown",
   "metadata": {},
   "source": [
    "Antes que nada, para poder hacer simular escenarios de predicción de precios, vamos a recordar lo que hicimos en la clase pasada de descargar los datos de Yahoo Finance, utilizando el paquete `data` de la librería `pandas_datareader`.\n",
    "\n",
    "Esta vez, utilizaremos los datos de precios de cierre ajustados de activos de la compañía Apple en el año 2016 para nuestra aplicación."
   ]
  },
  {
   "cell_type": "code",
   "execution_count": 1,
   "metadata": {},
   "outputs": [],
   "source": [
    "# Instalación del paquete\n",
    "\n",
    "# conda install pandas-datareader\n",
    "# pip install pandas-datareader"
   ]
  },
  {
   "cell_type": "code",
   "execution_count": 6,
   "metadata": {},
   "outputs": [
    {
     "name": "stdout",
     "output_type": "stream",
     "text": [
      "Collecting yfinance\n",
      "  Obtaining dependency information for yfinance from https://files.pythonhosted.org/packages/14/03/3c854ca3e02eedf614abba4b2e177c469bf3af58207fa30d5098c5d652fe/yfinance-0.2.37-py2.py3-none-any.whl.metadata\n",
      "  Downloading yfinance-0.2.37-py2.py3-none-any.whl.metadata (11 kB)\n",
      "Requirement already satisfied: pandas>=1.3.0 in /Users/nancy/anaconda3/lib/python3.11/site-packages (from yfinance) (2.0.3)\n",
      "Requirement already satisfied: numpy>=1.16.5 in /Users/nancy/anaconda3/lib/python3.11/site-packages (from yfinance) (1.24.3)\n",
      "Requirement already satisfied: requests>=2.31 in /Users/nancy/anaconda3/lib/python3.11/site-packages (from yfinance) (2.31.0)\n",
      "Collecting multitasking>=0.0.7 (from yfinance)\n",
      "  Obtaining dependency information for multitasking>=0.0.7 from https://files.pythonhosted.org/packages/3e/8a/bb3160e76e844db9e69a413f055818969c8acade64e1a9ac5ce9dfdcf6c1/multitasking-0.0.11-py3-none-any.whl.metadata\n",
      "  Downloading multitasking-0.0.11-py3-none-any.whl.metadata (5.5 kB)\n",
      "Requirement already satisfied: lxml>=4.9.1 in /Users/nancy/anaconda3/lib/python3.11/site-packages (from yfinance) (4.9.3)\n",
      "Requirement already satisfied: appdirs>=1.4.4 in /Users/nancy/anaconda3/lib/python3.11/site-packages (from yfinance) (1.4.4)\n",
      "Requirement already satisfied: pytz>=2022.5 in /Users/nancy/anaconda3/lib/python3.11/site-packages (from yfinance) (2023.3.post1)\n",
      "Collecting frozendict>=2.3.4 (from yfinance)\n",
      "  Downloading frozendict-2.4.1.tar.gz (315 kB)\n",
      "\u001b[2K     \u001b[90m━━━━━━━━━━━━━━━━━━━━━━━━━━━━━━━━━━━━━━━\u001b[0m \u001b[32m315.2/315.2 kB\u001b[0m \u001b[31m2.1 MB/s\u001b[0m eta \u001b[36m0:00:00\u001b[0ma \u001b[36m0:00:01\u001b[0m\n",
      "\u001b[?25h  Installing build dependencies ... \u001b[?25ldone\n",
      "\u001b[?25h  Getting requirements to build wheel ... \u001b[?25ldone\n",
      "\u001b[?25h  Preparing metadata (pyproject.toml) ... \u001b[?25ldone\n",
      "\u001b[?25hCollecting peewee>=3.16.2 (from yfinance)\n",
      "  Downloading peewee-3.17.1.tar.gz (3.0 MB)\n",
      "\u001b[2K     \u001b[90m━━━━━━━━━━━━━━━━━━━━━━━━━━━━━━━━━━━━━━━━\u001b[0m \u001b[32m3.0/3.0 MB\u001b[0m \u001b[31m3.7 MB/s\u001b[0m eta \u001b[36m0:00:00\u001b[0m00:01\u001b[0m00:01\u001b[0m\n",
      "\u001b[?25h  Installing build dependencies ... \u001b[?25ldone\n",
      "\u001b[?25h  Getting requirements to build wheel ... \u001b[?25ldone\n",
      "\u001b[?25h  Preparing metadata (pyproject.toml) ... \u001b[?25ldone\n",
      "\u001b[?25hRequirement already satisfied: beautifulsoup4>=4.11.1 in /Users/nancy/anaconda3/lib/python3.11/site-packages (from yfinance) (4.12.2)\n",
      "Collecting html5lib>=1.1 (from yfinance)\n",
      "  Obtaining dependency information for html5lib>=1.1 from https://files.pythonhosted.org/packages/6c/dd/a834df6482147d48e225a49515aabc28974ad5a4ca3215c18a882565b028/html5lib-1.1-py2.py3-none-any.whl.metadata\n",
      "  Downloading html5lib-1.1-py2.py3-none-any.whl.metadata (16 kB)\n",
      "Requirement already satisfied: soupsieve>1.2 in /Users/nancy/anaconda3/lib/python3.11/site-packages (from beautifulsoup4>=4.11.1->yfinance) (2.4)\n",
      "Requirement already satisfied: six>=1.9 in /Users/nancy/anaconda3/lib/python3.11/site-packages (from html5lib>=1.1->yfinance) (1.16.0)\n",
      "Requirement already satisfied: webencodings in /Users/nancy/anaconda3/lib/python3.11/site-packages (from html5lib>=1.1->yfinance) (0.5.1)\n",
      "Requirement already satisfied: python-dateutil>=2.8.2 in /Users/nancy/anaconda3/lib/python3.11/site-packages (from pandas>=1.3.0->yfinance) (2.8.2)\n",
      "Requirement already satisfied: tzdata>=2022.1 in /Users/nancy/anaconda3/lib/python3.11/site-packages (from pandas>=1.3.0->yfinance) (2023.3)\n",
      "Requirement already satisfied: charset-normalizer<4,>=2 in /Users/nancy/anaconda3/lib/python3.11/site-packages (from requests>=2.31->yfinance) (2.0.4)\n",
      "Requirement already satisfied: idna<4,>=2.5 in /Users/nancy/anaconda3/lib/python3.11/site-packages (from requests>=2.31->yfinance) (3.4)\n",
      "Requirement already satisfied: urllib3<3,>=1.21.1 in /Users/nancy/anaconda3/lib/python3.11/site-packages (from requests>=2.31->yfinance) (1.26.16)\n",
      "Requirement already satisfied: certifi>=2017.4.17 in /Users/nancy/anaconda3/lib/python3.11/site-packages (from requests>=2.31->yfinance) (2023.11.17)\n",
      "Downloading yfinance-0.2.37-py2.py3-none-any.whl (72 kB)\n",
      "\u001b[2K   \u001b[90m━━━━━━━━━━━━━━━━━━━━━━━━━━━━━━━━━━━━━━━━\u001b[0m \u001b[32m73.0/73.0 kB\u001b[0m \u001b[31m7.3 MB/s\u001b[0m eta \u001b[36m0:00:00\u001b[0m\n",
      "\u001b[?25hDownloading html5lib-1.1-py2.py3-none-any.whl (112 kB)\n",
      "\u001b[2K   \u001b[90m━━━━━━━━━━━━━━━━━━━━━━━━━━━━━━━━━━━━━━━━\u001b[0m \u001b[32m112.2/112.2 kB\u001b[0m \u001b[31m9.5 MB/s\u001b[0m eta \u001b[36m0:00:00\u001b[0m\n",
      "\u001b[?25hDownloading multitasking-0.0.11-py3-none-any.whl (8.5 kB)\n",
      "Building wheels for collected packages: frozendict, peewee\n",
      "  Building wheel for frozendict (pyproject.toml) ... \u001b[?25ldone\n",
      "\u001b[?25h  Created wheel for frozendict: filename=frozendict-2.4.1-cp311-cp311-macosx_10_9_x86_64.whl size=15503 sha256=3b176d2e477a768b5968f273758a7cd3fb2f4140e82ef9bc679da64454bd78c7\n",
      "  Stored in directory: /Users/nancy/Library/Caches/pip/wheels/02/6e/a0/b90b693ddaaf2bde1efb47df2576175a1983aef24936f71694\n",
      "  Building wheel for peewee (pyproject.toml) ... \u001b[?25ldone\n",
      "\u001b[?25h  Created wheel for peewee: filename=peewee-3.17.1-py3-none-any.whl size=136905 sha256=9561610c1bee52c15048a83103817bac23e6df8e772374983f3287a5079829f9\n",
      "  Stored in directory: /Users/nancy/Library/Caches/pip/wheels/33/d2/ca/79b9807826bc7ef0b86a1ee28c372daaf073f9aa8756eedd7f\n",
      "Successfully built frozendict peewee\n",
      "Installing collected packages: peewee, multitasking, html5lib, frozendict, yfinance\n",
      "Successfully installed frozendict-2.4.1 html5lib-1.1 multitasking-0.0.11 peewee-3.17.1 yfinance-0.2.37\n"
     ]
    }
   ],
   "source": [
    "!pip install yfinance"
   ]
  },
  {
   "cell_type": "code",
   "execution_count": 8,
   "metadata": {},
   "outputs": [],
   "source": [
    "import yfinance as yf\n",
    "import pandas as pd\n",
    "import numpy as np\n",
    "import matplotlib.pyplot as plt\n",
    "%matplotlib inline"
   ]
  },
  {
   "cell_type": "code",
   "execution_count": 21,
   "metadata": {},
   "outputs": [],
   "source": [
    "def getClose(names, start, end):\n",
    "    return yf.download(names, start=start, end=end)[[\"Adj Close\"]]"
   ]
  },
  {
   "cell_type": "code",
   "execution_count": 22,
   "metadata": {},
   "outputs": [
    {
     "name": "stderr",
     "output_type": "stream",
     "text": [
      "[*********************100%%**********************]  1 of 1 completed\n"
     ]
    }
   ],
   "source": [
    "aapl=getClose(\"AAPL\", \"2016-01-01\", \"2016-12-31\")"
   ]
  },
  {
   "cell_type": "code",
   "execution_count": 23,
   "metadata": {},
   "outputs": [
    {
     "data": {
      "text/plain": [
       "<Axes: ylabel='Frequency'>"
      ]
     },
     "execution_count": 23,
     "metadata": {},
     "output_type": "execute_result"
    },
    {
     "data": {
      "image/png": "[encoded data removed]",
      "text/plain": [
       "<Figure size 640x480 with 1 Axes>"
      ]
     },
     "metadata": {},
     "output_type": "display_data"
    }
   ],
   "source": [
    "aapl.plot.hist()"
   ]
  },
  {
   "cell_type": "markdown",
   "metadata": {},
   "source": [
    "## 2. Simulación de rendimientos diarios\n",
    "\n",
    "Recordemos que los precios diarios de cierre ajustados no son un proceso estocástico estacionario, pero los rendimientos diarios si lo son. Por tanto calculamos los rendimientos a partir de los precios de cierre, obtenemos sus propiedades estadísticas muestrales y proyectamos los rendimientos. Luego, obtenemos la proyección de los precios.\n",
    "\n",
    "Para una sucesión de precios $\\{S_t\\}_{t=0}^{n}$, el rendimiento simple $R_t$ se define como el cambio porcentual\n",
    "\n",
    "$$\n",
    "R_t=\\frac{S_t-S_{t-1}}{S_{t-1}}\\approx \\ln\\left(\\frac{S_t}{S_{t-1}}\\right)=r_t.\n",
    "$$\n",
    "para $t=1,\\ldots,n$.\n",
    "\n",
    "Para el ejemplo en curso, ¿cómo calcular esto?"
   ]
  },
  {
   "cell_type": "markdown",
   "metadata": {},
   "source": [
    "Además, supusimos que los rendimientos diarios eran una variable aleatoria con distribución normal (que se caracteriza con su media y varianza). Por tanto obtenemos la media y desviación estandar muestrales. Hagamos una función que retorne lo anterior."
   ]
  },
  {
   "cell_type": "code",
   "execution_count": 24,
   "metadata": {},
   "outputs": [],
   "source": [
    "R = aapl.pct_change() #cambio porcentual se saca ((N-A)/A)"
   ]
  },
  {
   "cell_type": "code",
   "execution_count": 25,
   "metadata": {},
   "outputs": [
    {
     "data": {
      "text/plain": [
       "<Axes: ylabel='Frequency'>"
      ]
     },
     "execution_count": 25,
     "metadata": {},
     "output_type": "execute_result"
    },
    {
     "data": {
      "image/png": "[encoded data removed]",
      "text/plain": [
       "<Figure size 640x480 with 1 Axes>"
      ]
     },
     "metadata": {},
     "output_type": "display_data"
    }
   ],
   "source": [
    "R.plot.hist()"
   ]
  },
  {
   "cell_type": "markdown",
   "metadata": {},
   "source": [
    "Prueba de hipótesis: comparar los datos de para ver si cambia o no."
   ]
  },
  {
   "cell_type": "markdown",
   "metadata": {},
   "source": [
    "Distribución normal: Con la media y la desviación estandar"
   ]
  },
  {
   "cell_type": "markdown",
   "metadata": {},
   "source": [
    "Entonces, suponemos que el cambio porcentual de los precios (rendimientos diarios) tiene una distribución normal.\n",
    "\n",
    "¿Cómo se caracteriza una [distribución normal](https://es.wikipedia.org/wiki/Distribuci%C3%B3n_normal)?"
   ]
  },
  {
   "cell_type": "code",
   "execution_count": 26,
   "metadata": {},
   "outputs": [
    {
     "data": {
      "text/plain": [
       "<bound method NDFrame.describe of             Adj Close\n",
       "Date                 \n",
       "2016-01-04        NaN\n",
       "2016-01-05  -0.025059\n",
       "2016-01-06  -0.019570\n",
       "2016-01-07  -0.042205\n",
       "2016-01-08   0.005288\n",
       "...               ...\n",
       "2016-12-23   0.001978\n",
       "2016-12-27   0.006351\n",
       "2016-12-28  -0.004264\n",
       "2016-12-29  -0.000257\n",
       "2016-12-30  -0.007796\n",
       "\n",
       "[252 rows x 1 columns]>"
      ]
     },
     "execution_count": 26,
     "metadata": {},
     "output_type": "execute_result"
    }
   ],
   "source": [
    "R.describe"
   ]
  },
  {
   "cell_type": "code",
   "execution_count": 27,
   "metadata": {},
   "outputs": [
    {
     "data": {
      "text/plain": [
       "Adj Close    0.000574\n",
       "dtype: float64"
      ]
     },
     "execution_count": 27,
     "metadata": {},
     "output_type": "execute_result"
    }
   ],
   "source": [
    "R.mean()"
   ]
  },
  {
   "cell_type": "code",
   "execution_count": 28,
   "metadata": {},
   "outputs": [
    {
     "data": {
      "text/plain": [
       "Adj Close    0.014731\n",
       "dtype: float64"
      ]
     },
     "execution_count": 28,
     "metadata": {},
     "output_type": "execute_result"
    }
   ],
   "source": [
    "R.std()"
   ]
  },
  {
   "cell_type": "code",
   "execution_count": 37,
   "metadata": {},
   "outputs": [
    {
     "data": {
      "text/plain": [
       "(array([ 14.,  55., 100.,  65.,  18.]),\n",
       " array([-0.03635844, -0.02183423, -0.00731003,  0.00721417,  0.02173838,\n",
       "         0.03626258]),\n",
       " <BarContainer object of 5 artists>)"
      ]
     },
     "execution_count": 37,
     "metadata": {},
     "output_type": "execute_result"
    },
    {
     "data": {
      "text/plain": [
       "<Figure size 640x480 with 0 Axes>"
      ]
     },
     "metadata": {},
     "output_type": "display_data"
    },
    {
     "data": {
      "image/png": "[encoded data removed]",
      "text/plain": [
       "<Figure size 640x480 with 1 Axes>"
      ]
     },
     "metadata": {},
     "output_type": "display_data"
    }
   ],
   "source": [
    "import numpy as np\n",
    "sim_R=np.random.normal(R.mean(), R.std(), 252) #Dist normal aleatoria y extrae 252 muestras\n",
    "\n",
    "plt.figure()\n",
    "R.plot.hist(alpha=0.5)\n",
    "plt.hist(sim_R, alpha=0.5, bins=5)"
   ]
  },
  {
   "cell_type": "markdown",
   "metadata": {},
   "source": [
    "Habiendo caracterizado los rendimientos diarios como una variable aleatoria normal con la media y la varianza muestral obtenida de los datos desde 2016, podemos generar números aleatorios con estas características para simular el comportamiento de los precios de cierre de las acciones en el 2021 (hay un supuesto de que las cosas no cambiarán fundamentalmente).\n",
    "\n",
    "Sin embargo, cada simulación que hagamos nos conducirá a distintos resultados (los precios siguen evolucionando aleatoriamente). Entonces, lo que haremos es simular varios escenarios para así ver alguna tendencia y tomar decisiones.\n",
    "\n",
    "Hagamos una función que simule varios escenarios de rendimientos diarios y que devuelva un dataframe con esta simulación."
   ]
  },
  {
   "cell_type": "code",
   "execution_count": 51,
   "metadata": {},
   "outputs": [],
   "source": [
    "def simR(media, std, start, dias, N): #media, estandar, cantidad de días, cantidad de simulaciones\n",
    "    sim_R = np.random.normal(media, std, size=(dias, N)) +1\n",
    "    fechas = pd.date_range(start, periods=dias)\n",
    "    return pd.DataFrame(sim_R, index=fechas)"
   ]
  },
  {
   "cell_type": "code",
   "execution_count": 74,
   "metadata": {},
   "outputs": [
    {
     "data": {
      "text/plain": [
       "Adj Close    26.912582\n",
       "Name: 2016-12-30 00:00:00, dtype: float64"
      ]
     },
     "execution_count": 74,
     "metadata": {},
     "output_type": "execute_result"
    }
   ],
   "source": [
    "aapl.iloc[-1]"
   ]
  },
  {
   "cell_type": "code",
   "execution_count": 66,
   "metadata": {},
   "outputs": [],
   "source": [
    "np.random.seed(5)\n",
    "sim_R= simR(R.mean(), R.std(), \"2017-01-01\", 10, 100) #Simulación de 10 días 100 veces"
   ]
  },
  {
   "cell_type": "code",
   "execution_count": 67,
   "metadata": {},
   "outputs": [
    {
     "data": {
      "text/html": [
       "<div>\n",
       "<style scoped>\n",
       "    .dataframe tbody tr th:only-of-type {\n",
       "        vertical-align: middle;\n",
       "    }\n",
       "\n",
       "    .dataframe tbody tr th {\n",
       "        vertical-align: top;\n",
       "    }\n",
       "\n",
       "    .dataframe thead th {\n",
       "        text-align: right;\n",
       "    }\n",
       "</style>\n",
       "<table border=\"1\" class=\"dataframe\">\n",
       "  <thead>\n",
       "    <tr style=\"text-align: right;\">\n",
       "      <th></th>\n",
       "      <th>0</th>\n",
       "      <th>1</th>\n",
       "      <th>2</th>\n",
       "      <th>3</th>\n",
       "      <th>4</th>\n",
       "      <th>5</th>\n",
       "      <th>6</th>\n",
       "      <th>7</th>\n",
       "      <th>8</th>\n",
       "      <th>9</th>\n",
       "      <th>...</th>\n",
       "      <th>90</th>\n",
       "      <th>91</th>\n",
       "      <th>92</th>\n",
       "      <th>93</th>\n",
       "      <th>94</th>\n",
       "      <th>95</th>\n",
       "      <th>96</th>\n",
       "      <th>97</th>\n",
       "      <th>98</th>\n",
       "      <th>99</th>\n",
       "    </tr>\n",
       "  </thead>\n",
       "  <tbody>\n",
       "    <tr>\n",
       "      <th>2017-01-01</th>\n",
       "      <td>1.007073</td>\n",
       "      <td>0.995699</td>\n",
       "      <td>1.036382</td>\n",
       "      <td>0.996860</td>\n",
       "      <td>1.002188</td>\n",
       "      <td>1.023885</td>\n",
       "      <td>0.987180</td>\n",
       "      <td>0.991858</td>\n",
       "      <td>1.003337</td>\n",
       "      <td>0.995714</td>\n",
       "      <td>...</td>\n",
       "      <td>1.017389</td>\n",
       "      <td>0.993182</td>\n",
       "      <td>0.999408</td>\n",
       "      <td>0.990367</td>\n",
       "      <td>0.991832</td>\n",
       "      <td>1.012185</td>\n",
       "      <td>0.994012</td>\n",
       "      <td>0.993471</td>\n",
       "      <td>1.007844</td>\n",
       "      <td>1.007946</td>\n",
       "    </tr>\n",
       "    <tr>\n",
       "      <th>2017-01-02</th>\n",
       "      <td>1.012247</td>\n",
       "      <td>1.003089</td>\n",
       "      <td>0.974739</td>\n",
       "      <td>1.009859</td>\n",
       "      <td>1.007914</td>\n",
       "      <td>1.015572</td>\n",
       "      <td>0.988104</td>\n",
       "      <td>1.037708</td>\n",
       "      <td>0.982419</td>\n",
       "      <td>1.011282</td>\n",
       "      <td>...</td>\n",
       "      <td>1.004254</td>\n",
       "      <td>1.017473</td>\n",
       "      <td>1.012888</td>\n",
       "      <td>1.004807</td>\n",
       "      <td>0.985907</td>\n",
       "      <td>1.013933</td>\n",
       "      <td>1.000930</td>\n",
       "      <td>0.997038</td>\n",
       "      <td>1.013980</td>\n",
       "      <td>1.009675</td>\n",
       "    </tr>\n",
       "    <tr>\n",
       "      <th>2017-01-03</th>\n",
       "      <td>1.007933</td>\n",
       "      <td>0.983610</td>\n",
       "      <td>0.991580</td>\n",
       "      <td>0.975473</td>\n",
       "      <td>1.003438</td>\n",
       "      <td>1.000990</td>\n",
       "      <td>1.014311</td>\n",
       "      <td>1.003697</td>\n",
       "      <td>0.995153</td>\n",
       "      <td>1.031678</td>\n",
       "      <td>...</td>\n",
       "      <td>0.987674</td>\n",
       "      <td>0.992647</td>\n",
       "      <td>0.981744</td>\n",
       "      <td>0.985949</td>\n",
       "      <td>1.017418</td>\n",
       "      <td>0.993074</td>\n",
       "      <td>1.013758</td>\n",
       "      <td>0.997978</td>\n",
       "      <td>1.005672</td>\n",
       "      <td>0.993115</td>\n",
       "    </tr>\n",
       "  </tbody>\n",
       "</table>\n",
       "<p>3 rows × 100 columns</p>\n",
       "</div>"
      ],
      "text/plain": [
       "                  0         1         2         3         4         5   \\\n",
       "2017-01-01  1.007073  0.995699  1.036382  0.996860  1.002188  1.023885   \n",
       "2017-01-02  1.012247  1.003089  0.974739  1.009859  1.007914  1.015572   \n",
       "2017-01-03  1.007933  0.983610  0.991580  0.975473  1.003438  1.000990   \n",
       "\n",
       "                  6         7         8         9   ...        90        91  \\\n",
       "2017-01-01  0.987180  0.991858  1.003337  0.995714  ...  1.017389  0.993182   \n",
       "2017-01-02  0.988104  1.037708  0.982419  1.011282  ...  1.004254  1.017473   \n",
       "2017-01-03  1.014311  1.003697  0.995153  1.031678  ...  0.987674  0.992647   \n",
       "\n",
       "                  92        93        94        95        96        97  \\\n",
       "2017-01-01  0.999408  0.990367  0.991832  1.012185  0.994012  0.993471   \n",
       "2017-01-02  1.012888  1.004807  0.985907  1.013933  1.000930  0.997038   \n",
       "2017-01-03  0.981744  0.985949  1.017418  0.993074  1.013758  0.997978   \n",
       "\n",
       "                  98        99  \n",
       "2017-01-01  1.007844  1.007946  \n",
       "2017-01-02  1.013980  1.009675  \n",
       "2017-01-03  1.005672  0.993115  \n",
       "\n",
       "[3 rows x 100 columns]"
      ]
     },
     "execution_count": 67,
     "metadata": {},
     "output_type": "execute_result"
    }
   ],
   "source": [
    "sim_R.head(3)"
   ]
  },
  {
   "cell_type": "code",
   "execution_count": 68,
   "metadata": {},
   "outputs": [
    {
     "data": {
      "text/html": [
       "<div>\n",
       "<style scoped>\n",
       "    .dataframe tbody tr th:only-of-type {\n",
       "        vertical-align: middle;\n",
       "    }\n",
       "\n",
       "    .dataframe tbody tr th {\n",
       "        vertical-align: top;\n",
       "    }\n",
       "\n",
       "    .dataframe thead th {\n",
       "        text-align: right;\n",
       "    }\n",
       "</style>\n",
       "<table border=\"1\" class=\"dataframe\">\n",
       "  <thead>\n",
       "    <tr style=\"text-align: right;\">\n",
       "      <th></th>\n",
       "      <th>0</th>\n",
       "      <th>1</th>\n",
       "      <th>2</th>\n",
       "      <th>3</th>\n",
       "      <th>4</th>\n",
       "      <th>5</th>\n",
       "      <th>6</th>\n",
       "      <th>7</th>\n",
       "      <th>8</th>\n",
       "      <th>9</th>\n",
       "      <th>...</th>\n",
       "      <th>90</th>\n",
       "      <th>91</th>\n",
       "      <th>92</th>\n",
       "      <th>93</th>\n",
       "      <th>94</th>\n",
       "      <th>95</th>\n",
       "      <th>96</th>\n",
       "      <th>97</th>\n",
       "      <th>98</th>\n",
       "      <th>99</th>\n",
       "    </tr>\n",
       "  </thead>\n",
       "  <tbody>\n",
       "    <tr>\n",
       "      <th>2017-01-06</th>\n",
       "      <td>27.936398</td>\n",
       "      <td>27.943493</td>\n",
       "      <td>27.816664</td>\n",
       "      <td>26.463434</td>\n",
       "      <td>27.397177</td>\n",
       "      <td>27.592433</td>\n",
       "      <td>27.042503</td>\n",
       "      <td>27.156185</td>\n",
       "      <td>25.767262</td>\n",
       "      <td>28.196249</td>\n",
       "      <td>...</td>\n",
       "      <td>27.184195</td>\n",
       "      <td>25.383131</td>\n",
       "      <td>26.043266</td>\n",
       "      <td>25.528342</td>\n",
       "      <td>26.759981</td>\n",
       "      <td>26.761372</td>\n",
       "      <td>27.583122</td>\n",
       "      <td>26.344613</td>\n",
       "      <td>27.905105</td>\n",
       "      <td>28.648385</td>\n",
       "    </tr>\n",
       "    <tr>\n",
       "      <th>2017-01-07</th>\n",
       "      <td>27.758733</td>\n",
       "      <td>27.919220</td>\n",
       "      <td>28.604695</td>\n",
       "      <td>25.799271</td>\n",
       "      <td>26.577903</td>\n",
       "      <td>27.192766</td>\n",
       "      <td>26.900369</td>\n",
       "      <td>26.712715</td>\n",
       "      <td>25.765678</td>\n",
       "      <td>28.175330</td>\n",
       "      <td>...</td>\n",
       "      <td>27.262341</td>\n",
       "      <td>25.795292</td>\n",
       "      <td>25.810575</td>\n",
       "      <td>25.716082</td>\n",
       "      <td>25.934851</td>\n",
       "      <td>26.354081</td>\n",
       "      <td>27.816467</td>\n",
       "      <td>26.731438</td>\n",
       "      <td>28.308862</td>\n",
       "      <td>29.116134</td>\n",
       "    </tr>\n",
       "    <tr>\n",
       "      <th>2017-01-08</th>\n",
       "      <td>27.104540</td>\n",
       "      <td>27.721105</td>\n",
       "      <td>27.533998</td>\n",
       "      <td>25.754825</td>\n",
       "      <td>26.685109</td>\n",
       "      <td>27.072344</td>\n",
       "      <td>26.548482</td>\n",
       "      <td>26.897042</td>\n",
       "      <td>25.982251</td>\n",
       "      <td>28.246939</td>\n",
       "      <td>...</td>\n",
       "      <td>27.082582</td>\n",
       "      <td>26.254015</td>\n",
       "      <td>25.894522</td>\n",
       "      <td>26.860268</td>\n",
       "      <td>25.825640</td>\n",
       "      <td>26.267913</td>\n",
       "      <td>28.777696</td>\n",
       "      <td>26.546631</td>\n",
       "      <td>29.262484</td>\n",
       "      <td>27.819592</td>\n",
       "    </tr>\n",
       "    <tr>\n",
       "      <th>2017-01-09</th>\n",
       "      <td>26.876720</td>\n",
       "      <td>28.331167</td>\n",
       "      <td>28.218328</td>\n",
       "      <td>25.964385</td>\n",
       "      <td>26.467311</td>\n",
       "      <td>27.055123</td>\n",
       "      <td>26.891231</td>\n",
       "      <td>27.061253</td>\n",
       "      <td>26.384655</td>\n",
       "      <td>27.988265</td>\n",
       "      <td>...</td>\n",
       "      <td>26.570419</td>\n",
       "      <td>26.462982</td>\n",
       "      <td>26.287490</td>\n",
       "      <td>27.033291</td>\n",
       "      <td>25.345457</td>\n",
       "      <td>26.078984</td>\n",
       "      <td>28.680418</td>\n",
       "      <td>26.744696</td>\n",
       "      <td>29.406002</td>\n",
       "      <td>27.675545</td>\n",
       "    </tr>\n",
       "    <tr>\n",
       "      <th>2017-01-10</th>\n",
       "      <td>26.240439</td>\n",
       "      <td>27.598832</td>\n",
       "      <td>27.827413</td>\n",
       "      <td>25.592734</td>\n",
       "      <td>26.244233</td>\n",
       "      <td>26.648257</td>\n",
       "      <td>26.852652</td>\n",
       "      <td>26.838571</td>\n",
       "      <td>26.480043</td>\n",
       "      <td>28.005718</td>\n",
       "      <td>...</td>\n",
       "      <td>26.426881</td>\n",
       "      <td>26.249695</td>\n",
       "      <td>25.888802</td>\n",
       "      <td>26.928100</td>\n",
       "      <td>25.646860</td>\n",
       "      <td>26.401045</td>\n",
       "      <td>29.023464</td>\n",
       "      <td>26.738424</td>\n",
       "      <td>29.560146</td>\n",
       "      <td>27.736940</td>\n",
       "    </tr>\n",
       "  </tbody>\n",
       "</table>\n",
       "<p>5 rows × 100 columns</p>\n",
       "</div>"
      ],
      "text/plain": [
       "                   0          1          2          3          4          5   \\\n",
       "2017-01-06  27.936398  27.943493  27.816664  26.463434  27.397177  27.592433   \n",
       "2017-01-07  27.758733  27.919220  28.604695  25.799271  26.577903  27.192766   \n",
       "2017-01-08  27.104540  27.721105  27.533998  25.754825  26.685109  27.072344   \n",
       "2017-01-09  26.876720  28.331167  28.218328  25.964385  26.467311  27.055123   \n",
       "2017-01-10  26.240439  27.598832  27.827413  25.592734  26.244233  26.648257   \n",
       "\n",
       "                   6          7          8          9   ...         90  \\\n",
       "2017-01-06  27.042503  27.156185  25.767262  28.196249  ...  27.184195   \n",
       "2017-01-07  26.900369  26.712715  25.765678  28.175330  ...  27.262341   \n",
       "2017-01-08  26.548482  26.897042  25.982251  28.246939  ...  27.082582   \n",
       "2017-01-09  26.891231  27.061253  26.384655  27.988265  ...  26.570419   \n",
       "2017-01-10  26.852652  26.838571  26.480043  28.005718  ...  26.426881   \n",
       "\n",
       "                   91         92         93         94         95         96  \\\n",
       "2017-01-06  25.383131  26.043266  25.528342  26.759981  26.761372  27.583122   \n",
       "2017-01-07  25.795292  25.810575  25.716082  25.934851  26.354081  27.816467   \n",
       "2017-01-08  26.254015  25.894522  26.860268  25.825640  26.267913  28.777696   \n",
       "2017-01-09  26.462982  26.287490  27.033291  25.345457  26.078984  28.680418   \n",
       "2017-01-10  26.249695  25.888802  26.928100  25.646860  26.401045  29.023464   \n",
       "\n",
       "                   97         98         99  \n",
       "2017-01-06  26.344613  27.905105  28.648385  \n",
       "2017-01-07  26.731438  28.308862  29.116134  \n",
       "2017-01-08  26.546631  29.262484  27.819592  \n",
       "2017-01-09  26.744696  29.406002  27.675545  \n",
       "2017-01-10  26.738424  29.560146  27.736940  \n",
       "\n",
       "[5 rows x 100 columns]"
      ]
     },
     "execution_count": 68,
     "metadata": {},
     "output_type": "execute_result"
    }
   ],
   "source": [
    "precios_simulados = sim_R.cumprod()*26.912582 #producto acumulado\n",
    "precios_simulados.tail()"
   ]
  },
  {
   "cell_type": "code",
   "execution_count": 71,
   "metadata": {},
   "outputs": [
    {
     "data": {
      "text/plain": [
       "2017-01-01    26.964311\n",
       "2017-01-02    26.991354\n",
       "2017-01-03    26.960020\n",
       "2017-01-04    27.031980\n",
       "2017-01-05    27.031001\n",
       "2017-01-06    27.039187\n",
       "2017-01-07    27.045059\n",
       "2017-01-08    27.052862\n",
       "2017-01-09    27.158428\n",
       "2017-01-10    27.203875\n",
       "Freq: D, dtype: float64"
      ]
     },
     "execution_count": 71,
     "metadata": {},
     "output_type": "execute_result"
    }
   ],
   "source": [
    "precios_simulados.mean(axis=1)#toma el promedio del eje x (axis=1)"
   ]
  },
  {
   "cell_type": "markdown",
   "metadata": {},
   "source": [
    "## 3. Proyección de precios de cierre"
   ]
  },
  {
   "cell_type": "markdown",
   "metadata": {},
   "source": [
    "Por tanto, para calcular los precios, tenemos:\n",
    "\n",
    "$$\\begin{align}\n",
    "p_i&=p_{i-1}(R_i+1)\\\\\n",
    "p_{i+1}&=p_i(R_{i+1}+1)=p_{i-1}(R_i+1)(R_{i+1}+1)\\\\\n",
    "&\\vdots\\\\\n",
    "p_{i+k}&=p_{i-1}(R_i+1)\\cdots(R_{i+k}+1).\n",
    "\\end{align}$$\n",
    "\n",
    "Si hacemos $i=0$ en la última ecuación, tenemos que $p_{k}=p_{-1}(R_0+1)\\cdots(R_{k}+1)$, donde $p_{-1}$ es el último precio reportado en el 2018."
   ]
  },
  {
   "cell_type": "markdown",
   "metadata": {},
   "source": [
    "Con los rendimientos, calculamos los precios de cierre..."
   ]
  },
  {
   "cell_type": "code",
   "execution_count": 82,
   "metadata": {},
   "outputs": [],
   "source": [
    "sim_R= simR(R.mean(), R.std(), \"2017-01-01\", 1000, 100000)\n",
    "precios_cierre=sim_R.cumprod()*26.912582 "
   ]
  },
  {
   "cell_type": "code",
   "execution_count": 83,
   "metadata": {},
   "outputs": [
    {
     "data": {
      "text/plain": [
       "2017-01-01    26.926608\n",
       "2017-01-02    26.941713\n",
       "2017-01-03    26.955081\n",
       "2017-01-04    26.968773\n",
       "2017-01-05    26.982692\n",
       "                ...    \n",
       "2019-09-23    47.739262\n",
       "2019-09-24    47.765955\n",
       "2019-09-25    47.792924\n",
       "2019-09-26    47.822346\n",
       "2019-09-27    47.849770\n",
       "Freq: D, Length: 1000, dtype: float64"
      ]
     },
     "execution_count": 83,
     "metadata": {},
     "output_type": "execute_result"
    }
   ],
   "source": [
    "precios_cierre.mean(axis=1)"
   ]
  },
  {
   "cell_type": "code",
   "execution_count": null,
   "metadata": {},
   "outputs": [],
   "source": []
  },
  {
   "cell_type": "markdown",
   "metadata": {},
   "source": [
    "## 4. Probabilidad Precio-Umbral\n",
    "\n",
    "Ya que tenemos muchos escenarios de precios proyectados, podemos ver varias cosas. Por ejemplo, ¿cuál es la probabilidad de que el precio de cierre sobrepase algún valor umbral en algún momento?"
   ]
  },
  {
   "cell_type": "code",
   "execution_count": 85,
   "metadata": {},
   "outputs": [
    {
     "data": {
      "text/plain": [
       "2017-01-01    0.0032\n",
       "2017-01-02    0.0295\n",
       "2017-01-03    0.0643\n",
       "2017-01-04    0.0990\n",
       "2017-01-05    0.1295\n",
       "               ...  \n",
       "2017-12-27    0.6726\n",
       "2017-12-28    0.6728\n",
       "2017-12-29    0.6744\n",
       "2017-12-30    0.6731\n",
       "2017-12-31    0.6750\n",
       "Freq: D, Length: 365, dtype: float64"
      ]
     },
     "execution_count": 85,
     "metadata": {},
     "output_type": "execute_result"
    }
   ],
   "source": [
    "sim_R= simR(R.mean(), R.std(), \"2017-01-01\", 365, 10000)\n",
    "(sim_R.cumprod()*26.912582 > 28).mean(axis=1) #Cuantas simulaciones fueron mayores a 28"
   ]
  },
  {
   "cell_type": "code",
   "execution_count": null,
   "metadata": {},
   "outputs": [],
   "source": []
  },
  {
   "cell_type": "code",
   "execution_count": 87,
   "metadata": {},
   "outputs": [
    {
     "name": "stderr",
     "output_type": "stream",
     "text": [
      "[*********************100%%**********************]  1 of 1 completed\n"
     ]
    },
    {
     "data": {
      "text/plain": [
       "2017-01-01    0.0004\n",
       "2017-01-02    0.0086\n",
       "2017-01-03    0.0275\n",
       "2017-01-04    0.0485\n",
       "2017-01-05    0.0737\n",
       "               ...  \n",
       "2017-12-27    0.7347\n",
       "2017-12-28    0.7342\n",
       "2017-12-29    0.7337\n",
       "2017-12-30    0.7336\n",
       "2017-12-31    0.7329\n",
       "Freq: D, Length: 365, dtype: float64"
      ]
     },
     "execution_count": 87,
     "metadata": {},
     "output_type": "execute_result"
    }
   ],
   "source": [
    "msft = getClose(\"MSFT\", \"2016-01-01\", \"2016-12-31\")\n",
    "R_msft = msft.pct_change()\n",
    "msft_mean = R_msft.mean()\n",
    "msft_std = R_msft.std()\n",
    "sim_R_msft = simR(msft_mean, msft_std, \"2017-01-01\", 365, 10000)\n",
    "(sim_R_msft.cumprod()*56.632259 > 56.632259*1.05).mean(axis=1)"
   ]
  },
  {
   "cell_type": "markdown",
   "metadata": {},
   "source": [
    "___\n",
    "Entonces, ya aprendimos a bajar datos con pandas-datareader. En específico, a partir de los precios de cierre ajustados obtuvimos los rendimientos diarios.\n",
    "\n",
    "Suponiendo que los rendimientos diarios son un proceso estocástico estacionario de distribución normal, pudimos caracaterizarlo y proyectar varios escenarios de evolución de los precios (montecarlo).\n",
    "\n",
    "Con estas proyecciones pudimos calcular probabilidades de sobrepasar cierto precio umbral: toma de decisiones."
   ]
  },
  {
   "cell_type": "markdown",
   "metadata": {},
   "source": [
    "# A06"
   ]
  },
  {
   "cell_type": "markdown",
   "metadata": {},
   "source": [
    "-**Problema 1**"
   ]
  },
  {
   "cell_type": "markdown",
   "metadata": {},
   "source": [
    "<img style=\"float: center\" src=\"1.png\" width=\"3500px\" height=\"1025px\"/>"
   ]
  },
  {
   "cell_type": "code",
   "execution_count": 2,
   "metadata": {},
   "outputs": [],
   "source": [
    "import numpy as np\n",
    "import pandas as pd"
   ]
  },
  {
   "cell_type": "code",
   "execution_count": 27,
   "metadata": {},
   "outputs": [],
   "source": [
    "N=100000\n",
    "pulseras=np.random.uniform(2,3)+pd.DataFrame(np.random.normal(2.5, 1, (20,N))).sum()\n",
    "p=pulseras.mean()"
   ]
  },
  {
   "cell_type": "code",
   "execution_count": 28,
   "metadata": {},
   "outputs": [],
   "source": [
    "N=100000\n",
    "aretes=np.random.uniform(4,7)+pd.DataFrame(np.random.normal(2, 1, (10,N))).sum()\n",
    "ar=aretes.mean()"
   ]
  },
  {
   "cell_type": "code",
   "execution_count": 29,
   "metadata": {},
   "outputs": [],
   "source": [
    "N=100000\n",
    "anillo=np.random.uniform(4,7)+pd.DataFrame(np.random.normal(1, 1.5, (15,N))).sum()\n",
    "a=anillo.mean()"
   ]
  },
  {
   "cell_type": "code",
   "execution_count": 30,
   "metadata": {},
   "outputs": [],
   "source": [
    "N=100000\n",
    "collar=np.random.uniform(14,17)+pd.DataFrame(np.random.normal(2, 0.5, (8,N))).sum()+pd.DataFrame(np.random.normal(6, 2, (8,N))).sum()\n",
    "c=collar.mean()"
   ]
  },
  {
   "cell_type": "code",
   "execution_count": 33,
   "metadata": {},
   "outputs": [
    {
     "data": {
      "text/plain": [
       "177.24964747049103"
      ]
     },
     "execution_count": 33,
     "metadata": {},
     "output_type": "execute_result"
    }
   ],
   "source": [
    "Tiempo_total=p+ar+a+c\n",
    "Tiempo_total"
   ]
  },
  {
   "cell_type": "markdown",
   "metadata": {},
   "source": [
    "Se tardará 177.24 días en tener 20 pulseras, 10 pares de aretes, 15 anillos y 8 collares en su inventario"
   ]
  },
  {
   "cell_type": "markdown",
   "metadata": {},
   "source": [
    "-**Problema 2**"
   ]
  },
  {
   "cell_type": "markdown",
   "metadata": {},
   "source": [
    "<img style=\"float: center\" src=\"2.png\" width=\"3500px\" height=\"1025px\"/>"
   ]
  },
  {
   "cell_type": "code",
   "execution_count": 36,
   "metadata": {},
   "outputs": [],
   "source": [
    "import yfinance as yf\n",
    "import pandas as pd\n",
    "import numpy as np\n",
    "import matplotlib.pyplot as plt\n",
    "%matplotlib inline"
   ]
  },
  {
   "cell_type": "code",
   "execution_count": 41,
   "metadata": {},
   "outputs": [],
   "source": [
    "def getClose(names, start, end):\n",
    "    return yf.download(names, start=start, end=end)[[\"Adj Close\"]]\n",
    "\n",
    "def simR(media, std, start, dias, N): #media, estandar, cantidad de días, cantidad de simulaciones\n",
    "    sim_R = np.random.normal(media, std, size=(dias, N)) +1\n",
    "    fechas = pd.date_range(start, periods=dias)\n",
    "    return pd.DataFrame(sim_R, index=fechas)\n"
   ]
  },
  {
   "cell_type": "code",
   "execution_count": 45,
   "metadata": {},
   "outputs": [
    {
     "data": {
      "text/plain": [
       "Adj Close    192.284637\n",
       "Name: 2023-12-29 00:00:00, dtype: float64"
      ]
     },
     "execution_count": 45,
     "metadata": {},
     "output_type": "execute_result"
    }
   ],
   "source": [
    "aapl.iloc[-1]"
   ]
  },
  {
   "cell_type": "code",
   "execution_count": 46,
   "metadata": {},
   "outputs": [
    {
     "data": {
      "text/plain": [
       "Adj Close    151.940002\n",
       "Name: 2023-12-29 00:00:00, dtype: float64"
      ]
     },
     "execution_count": 46,
     "metadata": {},
     "output_type": "execute_result"
    }
   ],
   "source": [
    "amzn.iloc[-1]"
   ]
  },
  {
   "cell_type": "code",
   "execution_count": 47,
   "metadata": {},
   "outputs": [
    {
     "data": {
      "text/plain": [
       "Adj Close    375.345886\n",
       "Name: 2023-12-29 00:00:00, dtype: float64"
      ]
     },
     "execution_count": 47,
     "metadata": {},
     "output_type": "execute_result"
    }
   ],
   "source": [
    "msft.iloc[-1]"
   ]
  },
  {
   "cell_type": "code",
   "execution_count": 48,
   "metadata": {},
   "outputs": [
    {
     "name": "stderr",
     "output_type": "stream",
     "text": [
      "[*********************100%%**********************]  1 of 1 completed\n"
     ]
    },
    {
     "data": {
      "text/plain": [
       "2024-01-01    0.0000\n",
       "2024-01-02    0.0008\n",
       "2024-01-03    0.0063\n",
       "2024-01-04    0.0187\n",
       "2024-01-05    0.0338\n",
       "               ...  \n",
       "2024-12-26    0.9926\n",
       "2024-12-27    0.9927\n",
       "2024-12-28    0.9924\n",
       "2024-12-29    0.9923\n",
       "2024-12-30    0.9930\n",
       "Freq: D, Length: 365, dtype: float64"
      ]
     },
     "execution_count": 48,
     "metadata": {},
     "output_type": "execute_result"
    }
   ],
   "source": [
    "# Apple\n",
    "aapl=getClose(\"AAPL\", \"2023-01-01\", \"2023-12-31\")\n",
    "R_aapl = aapl.pct_change()\n",
    "aapl_mean = R_aapl.mean()\n",
    "aapl_std = R_aapl.std()\n",
    "sim_R_aapl= simR(aapl_mean, aapl_std, \"2024-01-01\", 365, 10000)\n",
    "(sim_R_aapl.cumprod()*192.284637 > 192.284637*1.06).mean(axis=1) "
   ]
  },
  {
   "cell_type": "code",
   "execution_count": 50,
   "metadata": {},
   "outputs": [
    {
     "name": "stderr",
     "output_type": "stream",
     "text": [
      "[*********************100%%**********************]  1 of 1 completed\n"
     ]
    },
    {
     "data": {
      "text/plain": [
       "2024-01-01    0.0003\n",
       "2024-01-02    0.0069\n",
       "2024-01-03    0.0253\n",
       "2024-01-04    0.0485\n",
       "2024-01-05    0.0787\n",
       "               ...  \n",
       "2024-12-26    0.9757\n",
       "2024-12-27    0.9755\n",
       "2024-12-28    0.9764\n",
       "2024-12-29    0.9756\n",
       "2024-12-30    0.9761\n",
       "Freq: D, Length: 365, dtype: float64"
      ]
     },
     "execution_count": 50,
     "metadata": {},
     "output_type": "execute_result"
    }
   ],
   "source": [
    "# Microsoft\n",
    "msft = getClose(\"MSFT\", \"2023-01-01\", \"2023-12-31\")\n",
    "R_msft = msft.pct_change()\n",
    "msft_mean = R_msft.mean()\n",
    "msft_std = R_msft.std()\n",
    "sim_R_msft = simR(msft_mean, msft_std, \"2024-01-01\", 365, 10000)\n",
    "(sim_R_msft.cumprod()*375.345886 > 375.345886*1.06).mean(axis=1)"
   ]
  },
  {
   "cell_type": "code",
   "execution_count": 51,
   "metadata": {},
   "outputs": [
    {
     "name": "stderr",
     "output_type": "stream",
     "text": [
      "[*********************100%%**********************]  1 of 1 completed\n"
     ]
    },
    {
     "data": {
      "text/plain": [
       "2024-01-01    0.0021\n",
       "2024-01-02    0.0351\n",
       "2024-01-03    0.0785\n",
       "2024-01-04    0.1235\n",
       "2024-01-05    0.1631\n",
       "               ...  \n",
       "2024-12-26    0.9758\n",
       "2024-12-27    0.9766\n",
       "2024-12-28    0.9764\n",
       "2024-12-29    0.9774\n",
       "2024-12-30    0.9784\n",
       "Freq: D, Length: 365, dtype: float64"
      ]
     },
     "execution_count": 51,
     "metadata": {},
     "output_type": "execute_result"
    }
   ],
   "source": [
    "# Amazon\n",
    "amzn = getClose(\"AMZN\", \"2023-01-01\", \"2023-12-31\")\n",
    "R_amzn = amzn.pct_change()\n",
    "amzn_mean = R_amzn.mean()\n",
    "amzn_std = R_amzn.std()\n",
    "sim_R_amzn = simR(amzn_mean, amzn_std, \"2024-01-01\", 365, 10000)\n",
    "(sim_R_amzn.cumprod()*151.940002 > 151.940002*1.06).mean(axis=1)"
   ]
  },
  {
   "cell_type": "code",
   "execution_count": 70,
   "metadata": {},
   "outputs": [
    {
     "data": {
      "text/plain": [
       "2023-01-01    192.640163\n",
       "2023-01-02    193.002920\n",
       "2023-01-03    193.359677\n",
       "2023-01-04    193.705538\n",
       "2023-01-05    194.056982\n",
       "                 ...    \n",
       "2023-12-27    372.386466\n",
       "2023-12-28    373.069925\n",
       "2023-12-29    373.738562\n",
       "2023-12-30    374.427837\n",
       "2023-12-31    375.108048\n",
       "Freq: D, Length: 365, dtype: float64"
      ]
     },
     "execution_count": 70,
     "metadata": {},
     "output_type": "execute_result"
    }
   ],
   "source": [
    "#Apple\n",
    "sim_R_aapl= simR(R_aapl.mean(), R_aapl.std(), \"2023-01-01\", 365, 100000)\n",
    "precios_cierre_aapl=sim_R_aapl.cumprod()*192.284637  #PRECIOS DE CIERRE\n",
    "precios_cierre_aapl.mean(axis=1)"
   ]
  },
  {
   "cell_type": "code",
   "execution_count": 98,
   "metadata": {},
   "outputs": [
    {
     "data": {
      "text/plain": [
       "1.48979095722185"
      ]
     },
     "execution_count": 98,
     "metadata": {},
     "output_type": "execute_result"
    }
   ],
   "source": [
    "#Rendimiento (no en %) de Apple\n",
    "Rendimiento_aapl=((379.230595-152.314231)/152.314231)\n",
    "Rendimiento_aapl"
   ]
  },
  {
   "cell_type": "code",
   "execution_count": 99,
   "metadata": {},
   "outputs": [
    {
     "data": {
      "text/plain": [
       "48.979095722184994"
      ]
     },
     "execution_count": 99,
     "metadata": {},
     "output_type": "execute_result"
    }
   ],
   "source": [
    "ROI_aapl=((Rendimiento_aapl*10000-10000)/10000)*100\n",
    "ROI_aapl"
   ]
  },
  {
   "cell_type": "code",
   "execution_count": 72,
   "metadata": {},
   "outputs": [
    {
     "data": {
      "text/plain": [
       "2023-01-01    376.105012\n",
       "2023-01-02    376.864335\n",
       "2023-01-03    377.644829\n",
       "2023-01-04    378.408101\n",
       "2023-01-05    379.163126\n",
       "                 ...    \n",
       "2023-12-27    764.641552\n",
       "2023-12-28    766.168001\n",
       "2023-12-29    767.697170\n",
       "2023-12-30    769.222704\n",
       "2023-12-31    770.703673\n",
       "Freq: D, Length: 365, dtype: float64"
      ]
     },
     "execution_count": 72,
     "metadata": {},
     "output_type": "execute_result"
    }
   ],
   "source": [
    "#Microsoft\n",
    "sim_R_msft= simR(R_msft.mean(), R_msft.std(), \"2023-01-01\", 365, 100000)\n",
    "precios_cierre_msft=sim_R_msft.cumprod()*375.345886  #PRECIOS DE CIERRE\n",
    "precios_cierre_msft.mean(axis=1)"
   ]
  },
  {
   "cell_type": "code",
   "execution_count": 108,
   "metadata": {},
   "outputs": [
    {
     "data": {
      "text/plain": [
       "1.0491715037288576"
      ]
     },
     "execution_count": 108,
     "metadata": {},
     "output_type": "execute_result"
    }
   ],
   "source": [
    "#Rendimiento (no en %) de Microsoft\n",
    "Rendimiento_msft=((770.703673-376.105012)/376.105012)\n",
    "Rendimiento_msft"
   ]
  },
  {
   "cell_type": "code",
   "execution_count": 109,
   "metadata": {},
   "outputs": [
    {
     "data": {
      "text/plain": [
       "4.917150372885754"
      ]
     },
     "execution_count": 109,
     "metadata": {},
     "output_type": "execute_result"
    }
   ],
   "source": [
    "ROI_msft=((Rendimiento_msft*10000-10000)/10000)*100\n",
    "ROI_msft"
   ]
  },
  {
   "cell_type": "code",
   "execution_count": 106,
   "metadata": {},
   "outputs": [
    {
     "data": {
      "text/plain": [
       "2023-01-01    152.320015\n",
       "2023-01-02    152.704967\n",
       "2023-01-03    153.078965\n",
       "2023-01-04    153.447660\n",
       "2023-01-05    153.825366\n",
       "                 ...    \n",
       "2023-12-27    376.162637\n",
       "2023-12-28    377.080429\n",
       "2023-12-29    378.037199\n",
       "2023-12-30    378.986276\n",
       "2023-12-31    379.946913\n",
       "Freq: D, Length: 365, dtype: float64"
      ]
     },
     "execution_count": 106,
     "metadata": {},
     "output_type": "execute_result"
    }
   ],
   "source": [
    "#Amazon\n",
    "sim_R_amzn= simR(R_amzn.mean(), R_amzn.std(), \"2023-01-01\", 365, 100000)\n",
    "precios_cierre_amzn=sim_R_amzn.cumprod()*151.940002  #PRECIOS DE CIERRE\n",
    "precios_cierre_amzn.mean(axis=1)"
   ]
  },
  {
   "cell_type": "code",
   "execution_count": 107,
   "metadata": {},
   "outputs": [
    {
     "data": {
      "text/plain": [
       "1.4943991306723543"
      ]
     },
     "execution_count": 107,
     "metadata": {},
     "output_type": "execute_result"
    }
   ],
   "source": [
    "#Rendimiento(no en %) de Amazon\n",
    "Rendimiento_amzn=((379.946913-152.320015)/152.320015)\n",
    "Rendimiento_amzn"
   ]
  },
  {
   "cell_type": "code",
   "execution_count": 110,
   "metadata": {},
   "outputs": [
    {
     "data": {
      "text/plain": [
       "49.43991306723543"
      ]
     },
     "execution_count": 110,
     "metadata": {},
     "output_type": "execute_result"
    }
   ],
   "source": [
    "ROI_amzn=((Rendimiento_amzn*10000-10000)/10000)*100\n",
    "ROI_amzn"
   ]
  },
  {
   "cell_type": "markdown",
   "metadata": {},
   "source": [
    "1. La probabilidad de que crezca en un 6% el dinero en Apple es de 99.30%, en Microsoft es de 97.61% y en Amazon es de 97.84%."
   ]
  },
  {
   "cell_type": "markdown",
   "metadata": {},
   "source": [
    "2. El retorno promedio en Apple es de 48.98%%, en Microsoft es de 4.92% y en Amazon es de 49.44%."
   ]
  },
  {
   "cell_type": "markdown",
   "metadata": {},
   "source": [
    "3. Yo recomendaría invertir en Apple, tomando en cuenta lo anterior.\n"
   ]
  },
  {
   "cell_type": "code",
   "execution_count": null,
   "metadata": {},
   "outputs": [],
   "source": []
  }
 ],
 "metadata": {
  "kernelspec": {
   "display_name": "Python 3 (ipykernel)",
   "language": "python",
   "name": "python3"
  },
  "language_info": {
   "codemirror_mode": {
    "name": "ipython",
    "version": 3
   },
   "file_extension": ".py",
   "mimetype": "text/x-python",
   "name": "python",
   "nbconvert_exporter": "python",
   "pygments_lexer": "ipython3",
   "version": "3.11.5"
  }
 },
 "nbformat": 4,
 "nbformat_minor": 2
}
